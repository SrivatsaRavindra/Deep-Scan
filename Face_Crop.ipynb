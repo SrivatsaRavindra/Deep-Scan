{
 "cells": [
  {
   "cell_type": "code",
   "execution_count": 7,
   "id": "d5c71628-1b5d-40d8-b7cc-4643c0d371ea",
   "metadata": {},
   "outputs": [],
   "source": [
    "import cv2\n",
    "import os\n",
    "import numpy as np\n",
    "import gc\n",
    "from mtcnn import MTCNN\n",
    "from tqdm import tqdm"
   ]
  },
  {
   "cell_type": "code",
   "execution_count": 6,
   "id": "6d2a7ce1",
   "metadata": {},
   "outputs": [
    {
     "name": "stdout",
     "output_type": "stream",
     "text": [
      "Collecting pyOpenSSL==23.2.0\n",
      "  Downloading pyOpenSSL-23.2.0-py3-none-any.whl.metadata (10 kB)\n",
      "Requirement already satisfied: cryptography!=40.0.0,!=40.0.1,<42,>=38.0.0 in c:\\users\\sriva\\anaconda3\\lib\\site-packages (from pyOpenSSL==23.2.0) (41.0.3)\n",
      "Requirement already satisfied: cffi>=1.12 in c:\\users\\sriva\\anaconda3\\lib\\site-packages (from cryptography!=40.0.0,!=40.0.1,<42,>=38.0.0->pyOpenSSL==23.2.0) (1.15.0)\n",
      "Requirement already satisfied: pycparser in c:\\users\\sriva\\anaconda3\\lib\\site-packages (from cffi>=1.12->cryptography!=40.0.0,!=40.0.1,<42,>=38.0.0->pyOpenSSL==23.2.0) (2.21)\n",
      "Downloading pyOpenSSL-23.2.0-py3-none-any.whl (59 kB)\n",
      "Installing collected packages: pyOpenSSL\n",
      "  Attempting uninstall: pyOpenSSL\n",
      "    Found existing installation: pyOpenSSL 21.0.0\n",
      "    Uninstalling pyOpenSSL-21.0.0:\n",
      "      Successfully uninstalled pyOpenSSL-21.0.0\n",
      "Successfully installed pyOpenSSL-23.2.0\n"
     ]
    }
   ],
   "source": [
    "!pip install pyOpenSSL==23.2.0"
   ]
  },
  {
   "cell_type": "code",
   "execution_count": 4,
   "id": "58dda053",
   "metadata": {},
   "outputs": [
    {
     "name": "stdout",
     "output_type": "stream",
     "text": [
      "Collecting setuptools==65.5.0"
     ]
    },
    {
     "name": "stderr",
     "output_type": "stream",
     "text": [
      "ERROR: pip's dependency resolver does not currently take into account all the packages that are installed. This behaviour is the source of the following dependency conflicts.\n",
      "conda-repo-cli 1.0.4 requires pathlib, which is not installed.\n",
      "spyder 5.1.5 requires pyqt5<5.13, which is not installed.\n",
      "spyder 5.1.5 requires pyqtwebengine<5.13, which is not installed.\n",
      "google-api-core 1.25.1 requires google-auth<2.0dev,>=1.21.1, but you have google-auth 2.38.0 which is incompatible.\n",
      "google-cloud-core 1.7.1 requires google-auth<2.0dev,>=1.24.0, but you have google-auth 2.38.0 which is incompatible.\n",
      "google-cloud-storage 1.31.0 requires google-auth<2.0dev,>=1.11.0, but you have google-auth 2.38.0 which is incompatible.\n",
      "numba 0.55.1 requires numpy<1.22,>=1.18, but you have numpy 1.24.3 which is incompatible.\n",
      "tensorflow-intel 2.13.0 requires typing-extensions<4.6.0,>=3.6.6, but you have typing-extensions 4.12.2 which is incompatible.\n"
     ]
    },
    {
     "name": "stdout",
     "output_type": "stream",
     "text": [
      "\n",
      "  Downloading setuptools-65.5.0-py3-none-any.whl.metadata (6.3 kB)\n",
      "Downloading setuptools-65.5.0-py3-none-any.whl (1.2 MB)\n",
      "   ---------------------------------------- 1.2/1.2 MB 175.0 kB/s eta 0:00:00\n",
      "Installing collected packages: setuptools\n",
      "  Attempting uninstall: setuptools\n",
      "    Found existing installation: setuptools 76.1.0\n",
      "    Uninstalling setuptools-76.1.0:\n",
      "      Successfully uninstalled setuptools-76.1.0\n",
      "Successfully installed setuptools-65.5.0\n"
     ]
    }
   ],
   "source": [
    "!pip install setuptools==65.5.0"
   ]
  },
  {
   "cell_type": "code",
   "execution_count": 2,
   "id": "3de6c378",
   "metadata": {},
   "outputs": [
    {
     "name": "stdout",
     "output_type": "stream",
     "text": [
      "Collecting mtcnn\n",
      "  Downloading mtcnn-0.1.1-py3-none-any.whl.metadata (5.8 kB)\n",
      "Requirement already satisfied: keras>=2.0.0 in c:\\users\\sriva\\anaconda3\\lib\\site-packages (from mtcnn) (2.13.1)\n",
      "Requirement already satisfied: opencv-python>=4.1.0 in c:\\users\\sriva\\anaconda3\\lib\\site-packages (from mtcnn) (4.8.0.76)\n",
      "Requirement already satisfied: numpy>=1.17.0 in c:\\users\\sriva\\anaconda3\\lib\\site-packages (from opencv-python>=4.1.0->mtcnn) (1.24.3)\n",
      "Downloading mtcnn-0.1.1-py3-none-any.whl (2.3 MB)\n",
      "   ---------------------------------------- 2.3/2.3 MB 114.3 kB/s eta 0:00:00\n",
      "Installing collected packages: mtcnn\n",
      "Successfully installed mtcnn-0.1.1\n"
     ]
    }
   ],
   "source": [
    "!pip install mtcnn"
   ]
  },
  {
   "cell_type": "code",
   "execution_count": 2,
   "id": "16dab0fb-afd2-48d7-bdc9-3770ef1924dd",
   "metadata": {},
   "outputs": [],
   "source": [
    "# Initialize the MTCNN face detector\n",
    "detector = MTCNN()"
   ]
  },
  {
   "cell_type": "code",
   "execution_count": 3,
   "id": "ebf6414d-f9b2-4a02-9383-9153d3323526",
   "metadata": {},
   "outputs": [],
   "source": [
    "def crop_faces_mtcnn_hair_fix(input_folder, output_folder, scale_w=1.5, scale_h=1.45, hair_extension_factor=0.15, max_size=800):\n",
    "    \"\"\"\n",
    "    Detects faces using MTCNN and expands the bounding box to ensure both ears and full hair are visible,\n",
    "    while keeping the neck cropped perfectly (no clothing).\n",
    "\n",
    "    :param input_folder: Path to dataset folder containing subfolders with images.\n",
    "    :param output_folder: Path to save cropped face images, maintaining subfolder structure.\n",
    "    :param scale_w: Factor to expand bounding box width (default = 1.5).\n",
    "    :param scale_h: Factor to expand bounding box height (default = 1.45).\n",
    "    :param hair_extension_factor: Factor to extend the upper part for hair visibility (default = 0.15).\n",
    "    :param max_size: Maximum image width/height to prevent memory overload (default = 800 pixels).\n",
    "    \"\"\"\n",
    "    for subfolder in os.listdir(input_folder):\n",
    "        subfolder_path = os.path.join(input_folder, subfolder)\n",
    "        if not os.path.isdir(subfolder_path):\n",
    "            continue  # Skip if not a directory\n",
    "\n",
    "        output_subfolder = os.path.join(output_folder, subfolder)\n",
    "        os.makedirs(output_subfolder, exist_ok=True)\n",
    "\n",
    "        image_count = 1  # Counter for naming images\n",
    "\n",
    "        for filename in tqdm(os.listdir(subfolder_path), desc=f\"Processing {subfolder}\"):\n",
    "            if not filename.endswith(('.jpg', '.jpeg', '.png')):\n",
    "                continue\n",
    "\n",
    "            image_path = os.path.join(subfolder_path, filename)\n",
    "            image = cv2.imread(image_path)\n",
    "\n",
    "            if image is None:\n",
    "                print(f\"Error loading {filename}, skipping...\")\n",
    "                continue\n",
    "\n",
    "            # Resize large images to prevent memory errors\n",
    "            h, w, _ = image.shape\n",
    "            if max(h, w) > max_size:\n",
    "                scale_factor = max_size / max(h, w)\n",
    "                image = cv2.resize(image, (int(w * scale_factor), int(h * scale_factor)))\n",
    "\n",
    "            image_rgb = cv2.cvtColor(image, cv2.COLOR_BGR2RGB)\n",
    "\n",
    "            # Detect faces (setting `min_face_size` to 40 to filter out tiny faces)\n",
    "            faces = detector.detect_faces(image_rgb)\n",
    "\n",
    "            if faces:\n",
    "                for face in faces:\n",
    "                    x, y, w_bbox, h_bbox = face['box']\n",
    "\n",
    "                    # Expand width equally on both sides for ears\n",
    "                    new_w = int(w_bbox * scale_w)\n",
    "                    x = x - int((new_w - w_bbox) // 2)\n",
    "\n",
    "                    # Expand height but only add to the top for hair\n",
    "                    new_h = int(h_bbox * scale_h)\n",
    "                    y = y - int(h_bbox * hair_extension_factor)\n",
    "\n",
    "                    # Ensure the box stays within the image boundaries\n",
    "                    x = max(0, x)\n",
    "                    y = max(0, y)\n",
    "                    new_w = min(new_w, image.shape[1] - x)\n",
    "                    new_h = min(new_h, image.shape[0] - y)\n",
    "\n",
    "                    # Crop the expanded face region\n",
    "                    face_crop = image[y:y + new_h, x:x + new_w]\n",
    "\n",
    "                    # Save cropped image\n",
    "                    new_filename = f\"{subfolder}_{image_count:02d}.jpg\"\n",
    "                    output_path = os.path.join(output_subfolder, new_filename)\n",
    "                    cv2.imwrite(output_path, face_crop)\n",
    "                    image_count += 1  # Increment counter\n",
    "                    break  # Only save the first detected face\n",
    "\n",
    "            else:\n",
    "                print(f\"No face detected in {filename}\")\n",
    "\n",
    "            # Clear memory after processing each image\n",
    "            del image, image_rgb, faces\n",
    "            gc.collect()"
   ]
  },
  {
   "cell_type": "code",
   "execution_count": 4,
   "id": "43308b25-9677-428d-a273-df2d0870b121",
   "metadata": {},
   "outputs": [
    {
     "name": "stderr",
     "output_type": "stream",
     "text": [
      "Processing Amit Shah:  11%|██████▋                                                    | 43/380 [00:14<01:46,  3.18it/s]"
     ]
    },
    {
     "name": "stdout",
     "output_type": "stream",
     "text": [
      "No face detected in Amit Shah_141.jpg\n"
     ]
    },
    {
     "name": "stderr",
     "output_type": "stream",
     "text": [
      "Processing Amit Shah:  19%|███████████▎                                               | 73/380 [00:24<01:45,  2.91it/s]"
     ]
    },
    {
     "name": "stdout",
     "output_type": "stream",
     "text": [
      "Error loading Amit Shah_173.jpg, skipping...\n"
     ]
    },
    {
     "name": "stderr",
     "output_type": "stream",
     "text": [
      "Processing Amit Shah:  34%|███████████████████▋                                      | 129/380 [00:40<01:12,  3.49it/s]"
     ]
    },
    {
     "name": "stdout",
     "output_type": "stream",
     "text": [
      "Error loading Amit Shah_23.jpg, skipping...\n"
     ]
    },
    {
     "name": "stderr",
     "output_type": "stream",
     "text": [
      "Processing Amit Shah:  38%|██████████████████████▏                                   | 145/380 [00:45<01:20,  2.93it/s]"
     ]
    },
    {
     "name": "stdout",
     "output_type": "stream",
     "text": [
      "No face detected in Amit Shah_244.jpg\n"
     ]
    },
    {
     "name": "stderr",
     "output_type": "stream",
     "text": [
      "Processing Amit Shah:  38%|██████████████████████▎                                   | 146/380 [00:47<02:42,  1.44it/s]"
     ]
    },
    {
     "name": "stdout",
     "output_type": "stream",
     "text": [
      "Error loading Amit Shah_245.jpg, skipping...\n"
     ]
    },
    {
     "name": "stderr",
     "output_type": "stream",
     "text": [
      "Processing Amit Shah:  54%|███████████████████████████████▎                          | 205/380 [01:06<00:56,  3.11it/s]"
     ]
    },
    {
     "name": "stdout",
     "output_type": "stream",
     "text": [
      "Error loading Amit Shah_304.jpg, skipping...\n"
     ]
    },
    {
     "name": "stderr",
     "output_type": "stream",
     "text": [
      "Processing Amit Shah:  68%|███████████████████████████████████████▋                  | 260/380 [01:28<00:49,  2.43it/s]"
     ]
    },
    {
     "name": "stdout",
     "output_type": "stream",
     "text": [
      "No face detected in Amit Shah_356.jpg\n"
     ]
    },
    {
     "name": "stderr",
     "output_type": "stream",
     "text": [
      "Processing Amit Shah:  76%|████████████████████████████████████████████▎             | 290/380 [01:42<00:48,  1.86it/s]"
     ]
    },
    {
     "name": "stdout",
     "output_type": "stream",
     "text": [
      "No face detected in Amit Shah_386.jpg\n"
     ]
    },
    {
     "name": "stderr",
     "output_type": "stream",
     "text": [
      "Processing Amit Shah:  77%|████████████████████████████████████████████▌             | 292/380 [01:43<00:44,  1.98it/s]"
     ]
    },
    {
     "name": "stdout",
     "output_type": "stream",
     "text": [
      "No face detected in Amit Shah_388.jpg\n"
     ]
    },
    {
     "name": "stderr",
     "output_type": "stream",
     "text": [
      "Processing Amit Shah:  80%|██████████████████████████████████████████████▏           | 303/380 [01:48<00:36,  2.13it/s]"
     ]
    },
    {
     "name": "stdout",
     "output_type": "stream",
     "text": [
      "No face detected in Amit Shah_398.jpg\n"
     ]
    },
    {
     "name": "stderr",
     "output_type": "stream",
     "text": [
      "Processing Amit Shah:  81%|██████████████████████████████████████████████▊           | 307/380 [01:50<00:32,  2.23it/s]"
     ]
    },
    {
     "name": "stdout",
     "output_type": "stream",
     "text": [
      "No face detected in Amit Shah_401.jpg\n"
     ]
    },
    {
     "name": "stderr",
     "output_type": "stream",
     "text": [
      "Processing Amit Shah:  83%|████████████████████████████████████████████████          | 315/380 [01:53<00:25,  2.59it/s]"
     ]
    },
    {
     "name": "stdout",
     "output_type": "stream",
     "text": [
      "No face detected in Amit Shah_413.jpg\n"
     ]
    },
    {
     "name": "stderr",
     "output_type": "stream",
     "text": [
      "Processing Amit Shah:  84%|████████████████████████████████████████████████▋         | 319/380 [01:54<00:26,  2.32it/s]"
     ]
    },
    {
     "name": "stdout",
     "output_type": "stream",
     "text": [
      "No face detected in Amit Shah_422.jpg\n"
     ]
    },
    {
     "name": "stderr",
     "output_type": "stream",
     "text": [
      "Processing Amit Shah:  85%|█████████████████████████████████████████████████▎        | 323/380 [01:56<00:23,  2.41it/s]"
     ]
    },
    {
     "name": "stdout",
     "output_type": "stream",
     "text": [
      "No face detected in Amit Shah_430.jpg\n"
     ]
    },
    {
     "name": "stderr",
     "output_type": "stream",
     "text": [
      "Processing Amit Shah:  89%|███████████████████████████████████████████████████▍      | 337/380 [02:02<00:18,  2.35it/s]"
     ]
    },
    {
     "name": "stdout",
     "output_type": "stream",
     "text": [
      "No face detected in Amit Shah_54.jpg\n"
     ]
    },
    {
     "name": "stderr",
     "output_type": "stream",
     "text": [
      "Processing Amit Shah: 100%|██████████████████████████████████████████████████████████| 380/380 [02:21<00:00,  2.69it/s]\n"
     ]
    },
    {
     "name": "stdout",
     "output_type": "stream",
     "text": [
      "Error loading Amit Shah_99.jpg, skipping...\n"
     ]
    },
    {
     "name": "stderr",
     "output_type": "stream",
     "text": [
      "Processing Anurag Thakur:  61%|█████████████████████████████████                     | 233/380 [01:36<01:04,  2.27it/s]"
     ]
    },
    {
     "name": "stdout",
     "output_type": "stream",
     "text": [
      "No face detected in Anurag Thakur_323.jpg\n"
     ]
    },
    {
     "name": "stderr",
     "output_type": "stream",
     "text": [
      "Processing Anurag Thakur:  82%|████████████████████████████████████████████▏         | 311/380 [02:07<00:25,  2.75it/s]"
     ]
    },
    {
     "name": "stdout",
     "output_type": "stream",
     "text": [
      "No face detected in Anurag Thakur_396.jpg\n"
     ]
    },
    {
     "name": "stderr",
     "output_type": "stream",
     "text": [
      "Processing Anurag Thakur:  82%|████████████████████████████████████████████▍         | 313/380 [02:07<00:22,  2.94it/s]"
     ]
    },
    {
     "name": "stdout",
     "output_type": "stream",
     "text": [
      "No face detected in Anurag Thakur_398.jpg\n"
     ]
    },
    {
     "name": "stderr",
     "output_type": "stream",
     "text": [
      "Processing Anurag Thakur:  83%|█████████████████████████████████████████████         | 317/380 [02:09<00:21,  2.90it/s]"
     ]
    },
    {
     "name": "stdout",
     "output_type": "stream",
     "text": [
      "No face detected in Anurag Thakur_400.jpg\n"
     ]
    },
    {
     "name": "stderr",
     "output_type": "stream",
     "text": [
      "Processing Anurag Thakur:  84%|█████████████████████████████████████████████▏        | 318/380 [02:09<00:22,  2.75it/s]"
     ]
    },
    {
     "name": "stdout",
     "output_type": "stream",
     "text": [
      "No face detected in Anurag Thakur_401.jpg\n"
     ]
    },
    {
     "name": "stderr",
     "output_type": "stream",
     "text": [
      "Processing Anurag Thakur:  85%|█████████████████████████████████████████████▊        | 322/380 [02:11<00:22,  2.54it/s]"
     ]
    },
    {
     "name": "stdout",
     "output_type": "stream",
     "text": [
      "No face detected in Anurag Thakur_405.jpg\n",
      "Error loading Anurag Thakur_41.jpg, skipping...\n"
     ]
    },
    {
     "name": "stderr",
     "output_type": "stream",
     "text": [
      "Processing Anurag Thakur: 100%|██████████████████████████████████████████████████████| 380/380 [02:33<00:00,  2.47it/s]\n",
      "Processing Arvind Kejriwal:   5%|██▌                                                  | 18/376 [00:07<02:22,  2.50it/s]"
     ]
    },
    {
     "name": "stdout",
     "output_type": "stream",
     "text": [
      "No face detected in Arvind Kejriwal_116.jpg\n"
     ]
    },
    {
     "name": "stderr",
     "output_type": "stream",
     "text": [
      "Processing Arvind Kejriwal:   6%|███                                                  | 22/376 [00:09<02:21,  2.51it/s]"
     ]
    },
    {
     "name": "stdout",
     "output_type": "stream",
     "text": [
      "No face detected in Arvind Kejriwal_121.jpg\n"
     ]
    },
    {
     "name": "stderr",
     "output_type": "stream",
     "text": [
      "Processing Arvind Kejriwal:   6%|███▍                                                 | 24/376 [00:09<02:17,  2.55it/s]"
     ]
    },
    {
     "name": "stdout",
     "output_type": "stream",
     "text": [
      "No face detected in Arvind Kejriwal_124.jpg\n"
     ]
    },
    {
     "name": "stderr",
     "output_type": "stream",
     "text": [
      "Processing Arvind Kejriwal:  11%|█████▋                                               | 40/376 [00:16<02:05,  2.67it/s]"
     ]
    },
    {
     "name": "stdout",
     "output_type": "stream",
     "text": [
      "No face detected in Arvind Kejriwal_141.jpg\n"
     ]
    },
    {
     "name": "stderr",
     "output_type": "stream",
     "text": [
      "Processing Arvind Kejriwal:  14%|███████▌                                             | 54/376 [00:21<01:58,  2.71it/s]"
     ]
    },
    {
     "name": "stdout",
     "output_type": "stream",
     "text": [
      "No face detected in Arvind Kejriwal_154.jpg\n"
     ]
    },
    {
     "name": "stderr",
     "output_type": "stream",
     "text": [
      "Processing Arvind Kejriwal:  28%|██████████████▋                                     | 106/376 [00:41<01:51,  2.43it/s]"
     ]
    },
    {
     "name": "stdout",
     "output_type": "stream",
     "text": [
      "No face detected in Arvind Kejriwal_208.jpg\n"
     ]
    },
    {
     "name": "stderr",
     "output_type": "stream",
     "text": [
      "Processing Arvind Kejriwal:  30%|███████████████▋                                    | 113/376 [00:44<01:45,  2.49it/s]"
     ]
    },
    {
     "name": "stdout",
     "output_type": "stream",
     "text": [
      "No face detected in Arvind Kejriwal_214.jpg\n"
     ]
    },
    {
     "name": "stderr",
     "output_type": "stream",
     "text": [
      "Processing Arvind Kejriwal:  31%|████████████████▏                                   | 117/376 [00:46<01:41,  2.54it/s]"
     ]
    },
    {
     "name": "stdout",
     "output_type": "stream",
     "text": [
      "No face detected in Arvind Kejriwal_218.jpg\n"
     ]
    },
    {
     "name": "stderr",
     "output_type": "stream",
     "text": [
      "Processing Arvind Kejriwal:  33%|█████████████████▏                                  | 124/376 [00:48<01:35,  2.64it/s]"
     ]
    },
    {
     "name": "stdout",
     "output_type": "stream",
     "text": [
      "No face detected in Arvind Kejriwal_226.jpg\n"
     ]
    },
    {
     "name": "stderr",
     "output_type": "stream",
     "text": [
      "Processing Arvind Kejriwal:  40%|█████████████████████                               | 152/376 [01:00<01:28,  2.54it/s]"
     ]
    },
    {
     "name": "stdout",
     "output_type": "stream",
     "text": [
      "No face detected in Arvind Kejriwal_257.jpg\n"
     ]
    },
    {
     "name": "stderr",
     "output_type": "stream",
     "text": [
      "Processing Arvind Kejriwal:  48%|█████████████████████████                           | 181/376 [01:11<01:15,  2.57it/s]"
     ]
    },
    {
     "name": "stdout",
     "output_type": "stream",
     "text": [
      "No face detected in Arvind Kejriwal_289.jpg\n"
     ]
    },
    {
     "name": "stderr",
     "output_type": "stream",
     "text": [
      "Processing Arvind Kejriwal:  49%|█████████████████████████▋                          | 186/376 [01:13<01:17,  2.46it/s]"
     ]
    },
    {
     "name": "stdout",
     "output_type": "stream",
     "text": [
      "No face detected in Arvind Kejriwal_293.jpg\n"
     ]
    },
    {
     "name": "stderr",
     "output_type": "stream",
     "text": [
      "Processing Arvind Kejriwal:  51%|██████████████████████████▍                         | 191/376 [01:15<01:09,  2.67it/s]"
     ]
    },
    {
     "name": "stdout",
     "output_type": "stream",
     "text": [
      "No face detected in Arvind Kejriwal_299.jpg\n",
      "Error loading Arvind Kejriwal_3.jpg, skipping...\n"
     ]
    },
    {
     "name": "stderr",
     "output_type": "stream",
     "text": [
      "Processing Arvind Kejriwal:  59%|██████████████████████████████▍                     | 220/376 [01:26<00:53,  2.92it/s]"
     ]
    },
    {
     "name": "stdout",
     "output_type": "stream",
     "text": [
      "No face detected in Arvind Kejriwal_325.jpg\n"
     ]
    },
    {
     "name": "stderr",
     "output_type": "stream",
     "text": [
      "Processing Arvind Kejriwal:  59%|██████████████████████████████▋                     | 222/376 [01:27<00:53,  2.90it/s]"
     ]
    },
    {
     "name": "stdout",
     "output_type": "stream",
     "text": [
      "No face detected in Arvind Kejriwal_327.jpg\n"
     ]
    },
    {
     "name": "stderr",
     "output_type": "stream",
     "text": [
      "Processing Arvind Kejriwal:  64%|█████████████████████████████████▏                  | 240/376 [01:34<00:52,  2.57it/s]"
     ]
    },
    {
     "name": "stdout",
     "output_type": "stream",
     "text": [
      "No face detected in Arvind Kejriwal_343.jpg\n"
     ]
    },
    {
     "name": "stderr",
     "output_type": "stream",
     "text": [
      "Processing Arvind Kejriwal:  65%|█████████████████████████████████▉                  | 245/376 [01:35<00:45,  2.86it/s]"
     ]
    },
    {
     "name": "stdout",
     "output_type": "stream",
     "text": [
      "No face detected in Arvind Kejriwal_348.jpg\n"
     ]
    },
    {
     "name": "stderr",
     "output_type": "stream",
     "text": [
      "Processing Arvind Kejriwal:  72%|█████████████████████████████████████▍              | 271/376 [01:46<00:39,  2.69it/s]"
     ]
    },
    {
     "name": "stdout",
     "output_type": "stream",
     "text": [
      "No face detected in Arvind Kejriwal_373.jpg\n",
      "No face detected in Arvind Kejriwal_374.jpg\n"
     ]
    },
    {
     "name": "stderr",
     "output_type": "stream",
     "text": [
      "Processing Arvind Kejriwal:  73%|█████████████████████████████████████▊              | 273/376 [01:46<00:36,  2.83it/s]"
     ]
    },
    {
     "name": "stdout",
     "output_type": "stream",
     "text": [
      "No face detected in Arvind Kejriwal_375.jpg\n",
      "No face detected in Arvind Kejriwal_376.jpg\n"
     ]
    },
    {
     "name": "stderr",
     "output_type": "stream",
     "text": [
      "Processing Arvind Kejriwal:  73%|██████████████████████████████████████              | 275/376 [01:47<00:37,  2.70it/s]"
     ]
    },
    {
     "name": "stdout",
     "output_type": "stream",
     "text": [
      "No face detected in Arvind Kejriwal_377.jpg\n"
     ]
    },
    {
     "name": "stderr",
     "output_type": "stream",
     "text": [
      "Processing Arvind Kejriwal:  73%|██████████████████████████████████████▏             | 276/376 [01:48<00:38,  2.63it/s]"
     ]
    },
    {
     "name": "stdout",
     "output_type": "stream",
     "text": [
      "No face detected in Arvind Kejriwal_378.jpg\n"
     ]
    },
    {
     "name": "stderr",
     "output_type": "stream",
     "text": [
      "Processing Arvind Kejriwal:  74%|██████████████████████████████████████▌             | 279/376 [01:49<00:38,  2.55it/s]"
     ]
    },
    {
     "name": "stdout",
     "output_type": "stream",
     "text": [
      "No face detected in Arvind Kejriwal_380.jpg\n"
     ]
    },
    {
     "name": "stderr",
     "output_type": "stream",
     "text": [
      "Processing Arvind Kejriwal:  75%|███████████████████████████████████████             | 282/376 [01:50<00:38,  2.43it/s]"
     ]
    },
    {
     "name": "stdout",
     "output_type": "stream",
     "text": [
      "No face detected in Arvind Kejriwal_383.jpg\n"
     ]
    },
    {
     "name": "stderr",
     "output_type": "stream",
     "text": [
      "Processing Arvind Kejriwal:  75%|███████████████████████████████████████▏            | 283/376 [01:50<00:36,  2.53it/s]"
     ]
    },
    {
     "name": "stdout",
     "output_type": "stream",
     "text": [
      "No face detected in Arvind Kejriwal_384.jpg\n"
     ]
    },
    {
     "name": "stderr",
     "output_type": "stream",
     "text": [
      "Processing Arvind Kejriwal:  76%|███████████████████████████████████████▎            | 284/376 [01:51<00:38,  2.42it/s]"
     ]
    },
    {
     "name": "stdout",
     "output_type": "stream",
     "text": [
      "No face detected in Arvind Kejriwal_385.jpg\n"
     ]
    },
    {
     "name": "stderr",
     "output_type": "stream",
     "text": [
      "Processing Arvind Kejriwal:  76%|███████████████████████████████████████▍            | 285/376 [01:51<00:37,  2.40it/s]"
     ]
    },
    {
     "name": "stdout",
     "output_type": "stream",
     "text": [
      "No face detected in Arvind Kejriwal_386.jpg\n",
      "No face detected in Arvind Kejriwal_387.jpg\n"
     ]
    },
    {
     "name": "stderr",
     "output_type": "stream",
     "text": [
      "Processing Arvind Kejriwal:  82%|██████████████████████████████████████████▋         | 309/376 [02:01<00:26,  2.49it/s]"
     ]
    },
    {
     "name": "stdout",
     "output_type": "stream",
     "text": [
      "No face detected in Arvind Kejriwal_407.jpg\n"
     ]
    },
    {
     "name": "stderr",
     "output_type": "stream",
     "text": [
      "Processing Arvind Kejriwal:  82%|██████████████████████████████████████████▊         | 310/376 [02:01<00:25,  2.57it/s]"
     ]
    },
    {
     "name": "stdout",
     "output_type": "stream",
     "text": [
      "No face detected in Arvind Kejriwal_408.jpg\n"
     ]
    },
    {
     "name": "stderr",
     "output_type": "stream",
     "text": [
      "Processing Arvind Kejriwal:  94%|█████████████████████████████████████████████████   | 355/376 [02:19<00:08,  2.54it/s]"
     ]
    },
    {
     "name": "stdout",
     "output_type": "stream",
     "text": [
      "No face detected in Arvind Kejriwal_77.jpg\n"
     ]
    },
    {
     "name": "stderr",
     "output_type": "stream",
     "text": [
      "Processing Arvind Kejriwal: 100%|████████████████████████████████████████████████████| 376/376 [02:27<00:00,  2.54it/s]\n",
      "Processing Ashok Gehlot:   2%|█▎                                                       | 8/354 [00:03<02:12,  2.60it/s]"
     ]
    },
    {
     "name": "stdout",
     "output_type": "stream",
     "text": [
      "Error loading Ashok Gehlot_106.jpg, skipping...\n"
     ]
    },
    {
     "name": "stderr",
     "output_type": "stream",
     "text": [
      "Processing Ashok Gehlot:  14%|████████                                                | 51/354 [00:19<01:57,  2.59it/s]"
     ]
    },
    {
     "name": "stdout",
     "output_type": "stream",
     "text": [
      "Error loading Ashok Gehlot_147.jpg, skipping...\n"
     ]
    },
    {
     "name": "stderr",
     "output_type": "stream",
     "text": [
      "Processing Ashok Gehlot:  19%|██████████▍                                             | 66/354 [00:25<02:00,  2.39it/s]"
     ]
    },
    {
     "name": "stdout",
     "output_type": "stream",
     "text": [
      "No face detected in Ashok Gehlot_161.jpg\n"
     ]
    },
    {
     "name": "stderr",
     "output_type": "stream",
     "text": [
      "Processing Ashok Gehlot:  22%|████████████▍                                           | 79/354 [00:30<01:43,  2.67it/s]"
     ]
    },
    {
     "name": "stdout",
     "output_type": "stream",
     "text": [
      "No face detected in Ashok Gehlot_173.jpg\n"
     ]
    },
    {
     "name": "stderr",
     "output_type": "stream",
     "text": [
      "Processing Ashok Gehlot:  47%|█████████████████████████▋                             | 165/354 [01:04<01:15,  2.51it/s]"
     ]
    },
    {
     "name": "stdout",
     "output_type": "stream",
     "text": [
      "Error loading Ashok Gehlot_263.jpg, skipping...\n"
     ]
    },
    {
     "name": "stderr",
     "output_type": "stream",
     "text": [
      "Processing Ashok Gehlot:  50%|███████████████████████████▋                           | 178/354 [01:08<01:05,  2.67it/s]"
     ]
    },
    {
     "name": "stdout",
     "output_type": "stream",
     "text": [
      "No face detected in Ashok Gehlot_274.jpg\n"
     ]
    },
    {
     "name": "stderr",
     "output_type": "stream",
     "text": [
      "Processing Ashok Gehlot:  79%|███████████████████████████████████████████▎           | 279/354 [01:49<00:29,  2.50it/s]"
     ]
    },
    {
     "name": "stdout",
     "output_type": "stream",
     "text": [
      "No face detected in Ashok Gehlot_370.jpg\n"
     ]
    },
    {
     "name": "stderr",
     "output_type": "stream",
     "text": [
      "Processing Ashok Gehlot:  80%|███████████████████████████████████████████▊           | 282/354 [01:50<00:27,  2.64it/s]"
     ]
    },
    {
     "name": "stdout",
     "output_type": "stream",
     "text": [
      "No face detected in Ashok Gehlot_373.jpg\n"
     ]
    },
    {
     "name": "stderr",
     "output_type": "stream",
     "text": [
      "Processing Ashok Gehlot:  81%|████████████████████████████████████████████▍          | 286/354 [01:52<00:29,  2.32it/s]"
     ]
    },
    {
     "name": "stdout",
     "output_type": "stream",
     "text": [
      "No face detected in Ashok Gehlot_377.jpg\n"
     ]
    },
    {
     "name": "stderr",
     "output_type": "stream",
     "text": [
      "Processing Ashok Gehlot:  82%|█████████████████████████████████████████████          | 290/354 [01:53<00:25,  2.53it/s]"
     ]
    },
    {
     "name": "stdout",
     "output_type": "stream",
     "text": [
      "No face detected in Ashok Gehlot_381.jpg\n"
     ]
    },
    {
     "name": "stderr",
     "output_type": "stream",
     "text": [
      "Processing Ashok Gehlot:  82%|█████████████████████████████████████████████▏         | 291/354 [01:53<00:24,  2.55it/s]"
     ]
    },
    {
     "name": "stdout",
     "output_type": "stream",
     "text": [
      "No face detected in Ashok Gehlot_382.jpg\n",
      "No face detected in Ashok Gehlot_383.jpg\n"
     ]
    },
    {
     "name": "stderr",
     "output_type": "stream",
     "text": [
      "Processing Ashok Gehlot: 100%|███████████████████████████████████████████████████████| 354/354 [02:17<00:00,  2.57it/s]\n",
      "Processing Basavaraj Bommai:   6%|███                                                 | 18/300 [00:06<01:40,  2.79it/s]"
     ]
    },
    {
     "name": "stdout",
     "output_type": "stream",
     "text": [
      "No face detected in Basavaraj Bommai_118.jpg\n",
      "Error loading Basavaraj Bommai_119.jpg, skipping...\n"
     ]
    },
    {
     "name": "stderr",
     "output_type": "stream",
     "text": [
      "Processing Basavaraj Bommai:  10%|█████                                               | 29/300 [00:10<01:46,  2.54it/s]"
     ]
    },
    {
     "name": "stdout",
     "output_type": "stream",
     "text": [
      "No face detected in Basavaraj Bommai_129.jpg\n"
     ]
    },
    {
     "name": "stderr",
     "output_type": "stream",
     "text": [
      "Processing Basavaraj Bommai:  22%|███████████▎                                        | 65/300 [00:25<01:35,  2.47it/s]"
     ]
    },
    {
     "name": "stdout",
     "output_type": "stream",
     "text": [
      "No face detected in Basavaraj Bommai_163.jpg\n"
     ]
    },
    {
     "name": "stderr",
     "output_type": "stream",
     "text": [
      "Processing Basavaraj Bommai:  23%|████████████▏                                       | 70/300 [00:27<01:25,  2.69it/s]"
     ]
    },
    {
     "name": "stdout",
     "output_type": "stream",
     "text": [
      "No face detected in Basavaraj Bommai_168.jpg\n"
     ]
    },
    {
     "name": "stderr",
     "output_type": "stream",
     "text": [
      "Processing Basavaraj Bommai:  28%|██████████████▌                                     | 84/300 [00:32<01:22,  2.63it/s]"
     ]
    },
    {
     "name": "stdout",
     "output_type": "stream",
     "text": [
      "Error loading Basavaraj Bommai_181.jpg, skipping...\n"
     ]
    },
    {
     "name": "stderr",
     "output_type": "stream",
     "text": [
      "Processing Basavaraj Bommai:  36%|██████████████████▎                                | 108/300 [00:41<01:14,  2.58it/s]"
     ]
    },
    {
     "name": "stdout",
     "output_type": "stream",
     "text": [
      "No face detected in Basavaraj Bommai_202.jpg\n"
     ]
    },
    {
     "name": "stderr",
     "output_type": "stream",
     "text": [
      "Processing Basavaraj Bommai:  37%|██████████████████▋                                | 110/300 [00:42<01:15,  2.53it/s]"
     ]
    },
    {
     "name": "stdout",
     "output_type": "stream",
     "text": [
      "No face detected in Basavaraj Bommai_205.jpg\n"
     ]
    },
    {
     "name": "stderr",
     "output_type": "stream",
     "text": [
      "Processing Basavaraj Bommai:  38%|███████████████████▍                               | 114/300 [00:43<01:05,  2.83it/s]"
     ]
    },
    {
     "name": "stdout",
     "output_type": "stream",
     "text": [
      "No face detected in Basavaraj Bommai_209.jpg\n"
     ]
    },
    {
     "name": "stderr",
     "output_type": "stream",
     "text": [
      "Processing Basavaraj Bommai:  40%|████████████████████▏                              | 119/300 [00:45<01:10,  2.56it/s]"
     ]
    },
    {
     "name": "stdout",
     "output_type": "stream",
     "text": [
      "Error loading Basavaraj Bommai_215.jpg, skipping...\n"
     ]
    },
    {
     "name": "stderr",
     "output_type": "stream",
     "text": [
      "Processing Basavaraj Bommai:  41%|█████████████████████                              | 124/300 [00:47<01:05,  2.67it/s]"
     ]
    },
    {
     "name": "stdout",
     "output_type": "stream",
     "text": [
      "No face detected in Basavaraj Bommai_219.jpg\n"
     ]
    },
    {
     "name": "stderr",
     "output_type": "stream",
     "text": [
      "Processing Basavaraj Bommai:  44%|██████████████████████▎                            | 131/300 [00:50<01:11,  2.36it/s]"
     ]
    },
    {
     "name": "stdout",
     "output_type": "stream",
     "text": [
      "No face detected in Basavaraj Bommai_225.jpg\n"
     ]
    },
    {
     "name": "stderr",
     "output_type": "stream",
     "text": [
      "Processing Basavaraj Bommai:  47%|████████████████████████▏                          | 142/300 [00:54<01:05,  2.41it/s]"
     ]
    },
    {
     "name": "stdout",
     "output_type": "stream",
     "text": [
      "No face detected in Basavaraj Bommai_236.jpg\n"
     ]
    },
    {
     "name": "stderr",
     "output_type": "stream",
     "text": [
      "Processing Basavaraj Bommai:  51%|██████████████████████████                         | 153/300 [00:59<01:02,  2.35it/s]"
     ]
    },
    {
     "name": "stdout",
     "output_type": "stream",
     "text": [
      "No face detected in Basavaraj Bommai_247.jpg\n"
     ]
    },
    {
     "name": "stderr",
     "output_type": "stream",
     "text": [
      "Processing Basavaraj Bommai:  52%|██████████████████████████▎                        | 155/300 [01:00<01:02,  2.30it/s]"
     ]
    },
    {
     "name": "stdout",
     "output_type": "stream",
     "text": [
      "Error loading Basavaraj Bommai_25.jpg, skipping...\n"
     ]
    },
    {
     "name": "stderr",
     "output_type": "stream",
     "text": [
      "Processing Basavaraj Bommai:  61%|███████████████████████████████▎                   | 184/300 [01:12<00:46,  2.47it/s]"
     ]
    },
    {
     "name": "stdout",
     "output_type": "stream",
     "text": [
      "Error loading Basavaraj Bommai_277.jpg, skipping...\n"
     ]
    },
    {
     "name": "stderr",
     "output_type": "stream",
     "text": [
      "Processing Basavaraj Bommai:  62%|███████████████████████████████▌                   | 186/300 [01:12<00:34,  3.27it/s]"
     ]
    },
    {
     "name": "stdout",
     "output_type": "stream",
     "text": [
      "No face detected in Basavaraj Bommai_279.jpg\n"
     ]
    },
    {
     "name": "stderr",
     "output_type": "stream",
     "text": [
      "Processing Basavaraj Bommai:  68%|██████████████████████████████████▌                | 203/300 [01:19<00:37,  2.55it/s]"
     ]
    },
    {
     "name": "stdout",
     "output_type": "stream",
     "text": [
      "No face detected in Basavaraj Bommai_298.jpg\n"
     ]
    },
    {
     "name": "stderr",
     "output_type": "stream",
     "text": [
      "Processing Basavaraj Bommai:  71%|████████████████████████████████████▏              | 213/300 [01:23<00:31,  2.79it/s]"
     ]
    },
    {
     "name": "stdout",
     "output_type": "stream",
     "text": [
      "No face detected in Basavaraj Bommai_306.jpg\n",
      "No face detected in Basavaraj Bommai_307.jpg\n"
     ]
    },
    {
     "name": "stderr",
     "output_type": "stream",
     "text": [
      "Processing Basavaraj Bommai:  75%|██████████████████████████████████████▎            | 225/300 [01:27<00:25,  2.95it/s]"
     ]
    },
    {
     "name": "stdout",
     "output_type": "stream",
     "text": [
      "No face detected in Basavaraj Bommai_317.jpg\n"
     ]
    },
    {
     "name": "stderr",
     "output_type": "stream",
     "text": [
      "Processing Basavaraj Bommai:  86%|███████████████████████████████████████████▊       | 258/300 [01:40<00:16,  2.62it/s]"
     ]
    },
    {
     "name": "stdout",
     "output_type": "stream",
     "text": [
      "No face detected in Basavaraj Bommai_60.jpg\n"
     ]
    },
    {
     "name": "stderr",
     "output_type": "stream",
     "text": [
      "Processing Basavaraj Bommai:  92%|██████████████████████████████████████████████▉    | 276/300 [01:47<00:09,  2.43it/s]"
     ]
    },
    {
     "name": "stdout",
     "output_type": "stream",
     "text": [
      "Error loading Basavaraj Bommai_78.jpg, skipping...\n"
     ]
    },
    {
     "name": "stderr",
     "output_type": "stream",
     "text": [
      "Processing Basavaraj Bommai: 100%|███████████████████████████████████████████████████| 300/300 [01:56<00:00,  2.57it/s]\n",
      "Processing Bhupesh Baghel:  10%|█████▏                                                | 34/350 [00:13<02:08,  2.46it/s]"
     ]
    },
    {
     "name": "stdout",
     "output_type": "stream",
     "text": [
      "No face detected in Bhupesh Baghel_129.jpg\n"
     ]
    },
    {
     "name": "stderr",
     "output_type": "stream",
     "text": [
      "Processing Bhupesh Baghel:  23%|████████████▋                                         | 82/350 [00:34<01:46,  2.52it/s]"
     ]
    },
    {
     "name": "stdout",
     "output_type": "stream",
     "text": [
      "No face detected in Bhupesh Baghel_179.jpg\n"
     ]
    },
    {
     "name": "stderr",
     "output_type": "stream",
     "text": [
      "Processing Bhupesh Baghel:  33%|█████████████████▌                                   | 116/350 [00:47<01:30,  2.58it/s]"
     ]
    },
    {
     "name": "stdout",
     "output_type": "stream",
     "text": [
      "No face detected in Bhupesh Baghel_212.jpg\n"
     ]
    },
    {
     "name": "stderr",
     "output_type": "stream",
     "text": [
      "Processing Bhupesh Baghel:  45%|███████████████████████▉                             | 158/350 [01:05<01:15,  2.53it/s]"
     ]
    },
    {
     "name": "stdout",
     "output_type": "stream",
     "text": [
      "No face detected in Bhupesh Baghel_252.jpg\n"
     ]
    },
    {
     "name": "stderr",
     "output_type": "stream",
     "text": [
      "Processing Bhupesh Baghel:  53%|████████████████████████████▏                        | 186/350 [01:16<01:15,  2.18it/s]"
     ]
    },
    {
     "name": "stdout",
     "output_type": "stream",
     "text": [
      "No face detected in Bhupesh Baghel_279.jpg\n"
     ]
    },
    {
     "name": "stderr",
     "output_type": "stream",
     "text": [
      "Processing Bhupesh Baghel:  65%|██████████████████████████████████▋                  | 229/350 [01:34<00:47,  2.56it/s]"
     ]
    },
    {
     "name": "stdout",
     "output_type": "stream",
     "text": [
      "No face detected in Bhupesh Baghel_319.jpg\n"
     ]
    },
    {
     "name": "stderr",
     "output_type": "stream",
     "text": [
      "Processing Bhupesh Baghel:  79%|█████████████████████████████████████████▉           | 277/350 [01:54<00:28,  2.54it/s]"
     ]
    },
    {
     "name": "stdout",
     "output_type": "stream",
     "text": [
      "No face detected in Bhupesh Baghel_364.jpg\n"
     ]
    },
    {
     "name": "stderr",
     "output_type": "stream",
     "text": [
      "Processing Bhupesh Baghel:  79%|██████████████████████████████████████████           | 278/350 [01:54<00:29,  2.47it/s]"
     ]
    },
    {
     "name": "stdout",
     "output_type": "stream",
     "text": [
      "No face detected in Bhupesh Baghel_365.jpg\n"
     ]
    },
    {
     "name": "stderr",
     "output_type": "stream",
     "text": [
      "Processing Bhupesh Baghel:  80%|██████████████████████████████████████████▍          | 280/350 [01:55<00:28,  2.49it/s]"
     ]
    },
    {
     "name": "stdout",
     "output_type": "stream",
     "text": [
      "No face detected in Bhupesh Baghel_367.jpg\n"
     ]
    },
    {
     "name": "stderr",
     "output_type": "stream",
     "text": [
      "Processing Bhupesh Baghel:  80%|██████████████████████████████████████████▌          | 281/350 [01:56<00:28,  2.43it/s]"
     ]
    },
    {
     "name": "stdout",
     "output_type": "stream",
     "text": [
      "No face detected in Bhupesh Baghel_368.jpg\n"
     ]
    },
    {
     "name": "stderr",
     "output_type": "stream",
     "text": [
      "Processing Bhupesh Baghel:  81%|██████████████████████████████████████████▋          | 282/350 [01:56<00:27,  2.45it/s]"
     ]
    },
    {
     "name": "stdout",
     "output_type": "stream",
     "text": [
      "No face detected in Bhupesh Baghel_369.jpg\n"
     ]
    },
    {
     "name": "stderr",
     "output_type": "stream",
     "text": [
      "Processing Bhupesh Baghel:  81%|███████████████████████████████████████████          | 284/350 [01:56<00:21,  3.05it/s]"
     ]
    },
    {
     "name": "stdout",
     "output_type": "stream",
     "text": [
      "No face detected in Bhupesh Baghel_370.jpg\n"
     ]
    },
    {
     "name": "stderr",
     "output_type": "stream",
     "text": [
      "Processing Bhupesh Baghel:  89%|███████████████████████████████████████████████      | 311/350 [02:07<00:14,  2.60it/s]"
     ]
    },
    {
     "name": "stdout",
     "output_type": "stream",
     "text": [
      "Error loading Bhupesh Baghel_64.jpg, skipping...\n"
     ]
    },
    {
     "name": "stderr",
     "output_type": "stream",
     "text": [
      "Processing Bhupesh Baghel: 100%|█████████████████████████████████████████████████████| 350/350 [02:23<00:00,  2.44it/s]\n",
      "Processing Devendra Fadnavis:  35%|█████████████████▋                                | 130/368 [00:51<01:45,  2.26it/s]"
     ]
    },
    {
     "name": "stdout",
     "output_type": "stream",
     "text": [
      "No face detected in Devendra Fadnavis_220.jpg\n"
     ]
    },
    {
     "name": "stderr",
     "output_type": "stream",
     "text": [
      "Processing Devendra Fadnavis:  60%|██████████████████████████████                    | 221/368 [01:28<01:02,  2.35it/s]"
     ]
    },
    {
     "name": "stdout",
     "output_type": "stream",
     "text": [
      "No face detected in Devendra Fadnavis_307.jpg\n"
     ]
    },
    {
     "name": "stderr",
     "output_type": "stream",
     "text": [
      "Processing Devendra Fadnavis:  70%|██████████████████████████████████▊               | 256/368 [01:43<00:45,  2.44it/s]"
     ]
    },
    {
     "name": "stdout",
     "output_type": "stream",
     "text": [
      "No face detected in Devendra Fadnavis_340.jpg\n"
     ]
    },
    {
     "name": "stderr",
     "output_type": "stream",
     "text": [
      "Processing Devendra Fadnavis:  78%|██████████████████████████████████████▊           | 286/368 [01:55<00:34,  2.40it/s]"
     ]
    },
    {
     "name": "stdout",
     "output_type": "stream",
     "text": [
      "Error loading Devendra Fadnavis_369.jpg, skipping...\n"
     ]
    },
    {
     "name": "stderr",
     "output_type": "stream",
     "text": [
      "Processing Devendra Fadnavis:  80%|███████████████████████████████████████▉          | 294/368 [01:59<01:03,  1.17it/s]"
     ]
    },
    {
     "name": "stdout",
     "output_type": "stream",
     "text": [
      "No face detected in Devendra Fadnavis_375.jpg\n"
     ]
    },
    {
     "name": "stderr",
     "output_type": "stream",
     "text": [
      "Processing Devendra Fadnavis: 100%|██████████████████████████████████████████████████| 368/368 [02:30<00:00,  2.45it/s]\n",
      "Processing Himanta Biswa Sarma:   7%|███▏                                             | 24/362 [00:09<02:26,  2.31it/s]"
     ]
    },
    {
     "name": "stdout",
     "output_type": "stream",
     "text": [
      "No face detected in Himanta Biswa Sarma_122.jpg\n"
     ]
    },
    {
     "name": "stderr",
     "output_type": "stream",
     "text": [
      "Processing Himanta Biswa Sarma:  19%|█████████▏                                       | 68/362 [00:29<02:05,  2.35it/s]"
     ]
    },
    {
     "name": "stdout",
     "output_type": "stream",
     "text": [
      "Error loading Himanta Biswa Sarma_166.jpg, skipping...\n"
     ]
    },
    {
     "name": "stderr",
     "output_type": "stream",
     "text": [
      "Processing Himanta Biswa Sarma:  31%|██████████████▋                                 | 111/362 [00:46<01:29,  2.82it/s]"
     ]
    },
    {
     "name": "stdout",
     "output_type": "stream",
     "text": [
      "No face detected in Himanta Biswa Sarma_209.jpg\n"
     ]
    },
    {
     "name": "stderr",
     "output_type": "stream",
     "text": [
      "Processing Himanta Biswa Sarma:  32%|███████████████▍                                | 116/362 [00:48<01:44,  2.35it/s]"
     ]
    },
    {
     "name": "stdout",
     "output_type": "stream",
     "text": [
      "Error loading Himanta Biswa Sarma_214.jpg, skipping...\n"
     ]
    },
    {
     "name": "stderr",
     "output_type": "stream",
     "text": [
      "Processing Himanta Biswa Sarma:  49%|███████████████████████▍                        | 177/362 [01:12<01:15,  2.46it/s]"
     ]
    },
    {
     "name": "stdout",
     "output_type": "stream",
     "text": [
      "No face detected in Himanta Biswa Sarma_271.jpg\n"
     ]
    },
    {
     "name": "stderr",
     "output_type": "stream",
     "text": [
      "Processing Himanta Biswa Sarma:  55%|██████████████████████████▍                     | 199/362 [01:22<01:07,  2.41it/s]"
     ]
    },
    {
     "name": "stdout",
     "output_type": "stream",
     "text": [
      "Error loading Himanta Biswa Sarma_293.jpg, skipping...\n"
     ]
    },
    {
     "name": "stderr",
     "output_type": "stream",
     "text": [
      "Processing Himanta Biswa Sarma:  56%|███████████████████████████                     | 204/362 [01:23<00:59,  2.67it/s]"
     ]
    },
    {
     "name": "stdout",
     "output_type": "stream",
     "text": [
      "No face detected in Himanta Biswa Sarma_297.jpg\n"
     ]
    },
    {
     "name": "stderr",
     "output_type": "stream",
     "text": [
      "Processing Himanta Biswa Sarma:  57%|███████████████████████████▏                    | 205/362 [01:24<00:59,  2.64it/s]"
     ]
    },
    {
     "name": "stdout",
     "output_type": "stream",
     "text": [
      "Error loading Himanta Biswa Sarma_299.jpg, skipping...\n"
     ]
    },
    {
     "name": "stderr",
     "output_type": "stream",
     "text": [
      "Processing Himanta Biswa Sarma:  70%|█████████████████████████████████▋              | 254/362 [01:43<00:41,  2.63it/s]"
     ]
    },
    {
     "name": "stdout",
     "output_type": "stream",
     "text": [
      "No face detected in Himanta Biswa Sarma_344.jpg\n"
     ]
    },
    {
     "name": "stderr",
     "output_type": "stream",
     "text": [
      "Processing Himanta Biswa Sarma:  75%|████████████████████████████████████▏           | 273/362 [01:50<00:30,  2.94it/s]"
     ]
    },
    {
     "name": "stdout",
     "output_type": "stream",
     "text": [
      "No face detected in Himanta Biswa Sarma_363.jpg\n"
     ]
    },
    {
     "name": "stderr",
     "output_type": "stream",
     "text": [
      "Processing Himanta Biswa Sarma:  79%|█████████████████████████████████████▉          | 286/362 [01:55<00:23,  3.22it/s]"
     ]
    },
    {
     "name": "stdout",
     "output_type": "stream",
     "text": [
      "No face detected in Himanta Biswa Sarma_375.jpg\n"
     ]
    },
    {
     "name": "stderr",
     "output_type": "stream",
     "text": [
      "Processing Himanta Biswa Sarma:  82%|███████████████████████████████████████▌        | 298/362 [02:00<00:25,  2.48it/s]"
     ]
    },
    {
     "name": "stdout",
     "output_type": "stream",
     "text": [
      "No face detected in Himanta Biswa Sarma_386.jpg\n"
     ]
    },
    {
     "name": "stderr",
     "output_type": "stream",
     "text": [
      "Processing Himanta Biswa Sarma:  84%|████████████████████████████████████████▍       | 305/362 [02:03<00:23,  2.38it/s]"
     ]
    },
    {
     "name": "stdout",
     "output_type": "stream",
     "text": [
      "No face detected in Himanta Biswa Sarma_392.jpg\n"
     ]
    },
    {
     "name": "stderr",
     "output_type": "stream",
     "text": [
      "Processing Himanta Biswa Sarma:  96%|██████████████████████████████████████████████  | 347/362 [02:19<00:06,  2.39it/s]"
     ]
    },
    {
     "name": "stdout",
     "output_type": "stream",
     "text": [
      "Error loading Himanta Biswa Sarma_84.jpg, skipping...\n"
     ]
    },
    {
     "name": "stderr",
     "output_type": "stream",
     "text": [
      "Processing Himanta Biswa Sarma:  97%|██████████████████████████████████████████████▍ | 350/362 [02:20<00:04,  2.95it/s]"
     ]
    },
    {
     "name": "stdout",
     "output_type": "stream",
     "text": [
      "Error loading Himanta Biswa Sarma_88.jpg, skipping...\n"
     ]
    },
    {
     "name": "stderr",
     "output_type": "stream",
     "text": [
      "Processing Himanta Biswa Sarma: 100%|████████████████████████████████████████████████| 362/362 [02:24<00:00,  2.50it/s]\n",
      "Processing Jagdeep Dhankhar:  58%|█████████████████████████████▋                     | 207/356 [01:23<00:54,  2.75it/s]"
     ]
    },
    {
     "name": "stdout",
     "output_type": "stream",
     "text": [
      "No face detected in Jagdeep Dhankhar_292.jpg\n"
     ]
    },
    {
     "name": "stderr",
     "output_type": "stream",
     "text": [
      "Processing Jagdeep Dhankhar:  69%|███████████████████████████████████                | 245/356 [01:38<00:41,  2.66it/s]"
     ]
    },
    {
     "name": "stdout",
     "output_type": "stream",
     "text": [
      "No face detected in Jagdeep Dhankhar_329.jpg\n"
     ]
    },
    {
     "name": "stderr",
     "output_type": "stream",
     "text": [
      "Processing Jagdeep Dhankhar:  72%|████████████████████████████████████▊              | 257/356 [01:43<00:33,  2.92it/s]"
     ]
    },
    {
     "name": "stdout",
     "output_type": "stream",
     "text": [
      "No face detected in Jagdeep Dhankhar_340.jpg\n"
     ]
    },
    {
     "name": "stderr",
     "output_type": "stream",
     "text": [
      "Processing Jagdeep Dhankhar:  90%|██████████████████████████████████████████████▏    | 322/356 [02:09<00:13,  2.49it/s]"
     ]
    },
    {
     "name": "stdout",
     "output_type": "stream",
     "text": [
      "No face detected in Jagdeep Dhankhar_67.jpg\n"
     ]
    },
    {
     "name": "stderr",
     "output_type": "stream",
     "text": [
      "Processing Jagdeep Dhankhar: 100%|███████████████████████████████████████████████████| 356/356 [02:23<00:00,  2.49it/s]\n",
      "Processing K. Chandrashekar Rao:  57%|██████████████████████████▋                    | 201/354 [01:22<00:56,  2.70it/s]"
     ]
    },
    {
     "name": "stdout",
     "output_type": "stream",
     "text": [
      "Error loading K. Chandrashekar Rao_289.jpg, skipping...\n"
     ]
    },
    {
     "name": "stderr",
     "output_type": "stream",
     "text": [
      "Processing K. Chandrashekar Rao:  78%|████████████████████████████████████▊          | 277/354 [01:52<00:26,  2.95it/s]"
     ]
    },
    {
     "name": "stdout",
     "output_type": "stream",
     "text": [
      "No face detected in K. Chandrashekar Rao_358.jpg\n"
     ]
    },
    {
     "name": "stderr",
     "output_type": "stream",
     "text": [
      "Processing K. Chandrashekar Rao:  80%|█████████████████████████████████████▍         | 282/354 [01:54<00:28,  2.51it/s]"
     ]
    },
    {
     "name": "stdout",
     "output_type": "stream",
     "text": [
      "No face detected in K. Chandrashekar Rao_362.jpg\n"
     ]
    },
    {
     "name": "stderr",
     "output_type": "stream",
     "text": [
      "Processing K. Chandrashekar Rao:  90%|██████████████████████████████████████████▎    | 319/354 [02:09<00:14,  2.46it/s]"
     ]
    },
    {
     "name": "stdout",
     "output_type": "stream",
     "text": [
      "Error loading K. Chandrashekar Rao_68.jpg, skipping...\n"
     ]
    },
    {
     "name": "stderr",
     "output_type": "stream",
     "text": [
      "Processing K. Chandrashekar Rao: 100%|███████████████████████████████████████████████| 354/354 [02:22<00:00,  2.48it/s]\n",
      "Processing Mallikarjun Kharge:  13%|██████▌                                           | 49/376 [00:19<02:06,  2.59it/s]"
     ]
    },
    {
     "name": "stdout",
     "output_type": "stream",
     "text": [
      "No face detected in Mallikarjun Kharge_143.jpg\n"
     ]
    },
    {
     "name": "stderr",
     "output_type": "stream",
     "text": [
      "Processing Mallikarjun Kharge:  34%|████████████████▍                                | 126/376 [00:50<01:36,  2.59it/s]"
     ]
    },
    {
     "name": "stdout",
     "output_type": "stream",
     "text": [
      "No face detected in Mallikarjun Kharge_214.jpg\n"
     ]
    },
    {
     "name": "stderr",
     "output_type": "stream",
     "text": [
      "Processing Mallikarjun Kharge:  44%|█████████████████████▋                           | 166/376 [01:06<01:28,  2.38it/s]"
     ]
    },
    {
     "name": "stdout",
     "output_type": "stream",
     "text": [
      "No face detected in Mallikarjun Kharge_253.jpg\n"
     ]
    },
    {
     "name": "stderr",
     "output_type": "stream",
     "text": [
      "Processing Mallikarjun Kharge:  47%|███████████████████████                          | 177/376 [01:11<01:20,  2.48it/s]"
     ]
    },
    {
     "name": "stdout",
     "output_type": "stream",
     "text": [
      "No face detected in Mallikarjun Kharge_263.jpg\n"
     ]
    },
    {
     "name": "stderr",
     "output_type": "stream",
     "text": [
      "Processing Mallikarjun Kharge:  60%|█████████████████████████████▌                   | 227/376 [01:31<00:58,  2.56it/s]"
     ]
    },
    {
     "name": "stdout",
     "output_type": "stream",
     "text": [
      "No face detected in Mallikarjun Kharge_310.jpg\n"
     ]
    },
    {
     "name": "stderr",
     "output_type": "stream",
     "text": [
      "Processing Mallikarjun Kharge:  65%|███████████████████████████████▋                 | 243/376 [01:38<00:51,  2.59it/s]"
     ]
    },
    {
     "name": "stdout",
     "output_type": "stream",
     "text": [
      "No face detected in Mallikarjun Kharge_326.jpg\n"
     ]
    },
    {
     "name": "stderr",
     "output_type": "stream",
     "text": [
      "Processing Mallikarjun Kharge:  77%|█████████████████████████████████████▌           | 288/376 [01:56<00:32,  2.71it/s]"
     ]
    },
    {
     "name": "stdout",
     "output_type": "stream",
     "text": [
      "No face detected in Mallikarjun Kharge_370.jpg\n",
      "No face detected in Mallikarjun Kharge_371.jpg\n"
     ]
    },
    {
     "name": "stderr",
     "output_type": "stream",
     "text": [
      "Processing Mallikarjun Kharge:  78%|██████████████████████████████████████▏          | 293/376 [01:57<00:25,  3.27it/s]"
     ]
    },
    {
     "name": "stdout",
     "output_type": "stream",
     "text": [
      "No face detected in Mallikarjun Kharge_375.jpg\n"
     ]
    },
    {
     "name": "stderr",
     "output_type": "stream",
     "text": [
      "Processing Mallikarjun Kharge:  79%|██████████████████████████████████████▋          | 297/376 [01:59<00:30,  2.62it/s]"
     ]
    },
    {
     "name": "stdout",
     "output_type": "stream",
     "text": [
      "No face detected in Mallikarjun Kharge_379.jpg\n"
     ]
    },
    {
     "name": "stderr",
     "output_type": "stream",
     "text": [
      "Processing Mallikarjun Kharge:  80%|██████████████████████████████████████▉          | 299/376 [02:00<00:29,  2.59it/s]"
     ]
    },
    {
     "name": "stdout",
     "output_type": "stream",
     "text": [
      "No face detected in Mallikarjun Kharge_380.jpg\n"
     ]
    },
    {
     "name": "stderr",
     "output_type": "stream",
     "text": [
      "Processing Mallikarjun Kharge:  80%|███████████████████████████████████████          | 300/376 [02:00<00:29,  2.61it/s]"
     ]
    },
    {
     "name": "stdout",
     "output_type": "stream",
     "text": [
      "No face detected in Mallikarjun Kharge_381.jpg\n"
     ]
    },
    {
     "name": "stderr",
     "output_type": "stream",
     "text": [
      "Processing Mallikarjun Kharge:  81%|███████████████████████████████████████▍         | 303/376 [02:01<00:25,  2.90it/s]"
     ]
    },
    {
     "name": "stdout",
     "output_type": "stream",
     "text": [
      "No face detected in Mallikarjun Kharge_384.jpg\n"
     ]
    },
    {
     "name": "stderr",
     "output_type": "stream",
     "text": [
      "Processing Mallikarjun Kharge:  82%|████████████████████████████████████████▏        | 308/376 [02:03<00:25,  2.68it/s]"
     ]
    },
    {
     "name": "stdout",
     "output_type": "stream",
     "text": [
      "No face detected in Mallikarjun Kharge_389.jpg\n"
     ]
    },
    {
     "name": "stderr",
     "output_type": "stream",
     "text": [
      "Processing Mallikarjun Kharge:  82%|████████████████████████████████████████▍        | 310/376 [02:04<00:22,  2.87it/s]"
     ]
    },
    {
     "name": "stdout",
     "output_type": "stream",
     "text": [
      "No face detected in Mallikarjun Kharge_390.jpg\n"
     ]
    },
    {
     "name": "stderr",
     "output_type": "stream",
     "text": [
      "Processing Mallikarjun Kharge: 100%|█████████████████████████████████████████████████| 376/376 [02:31<00:00,  2.48it/s]\n",
      "Processing Mamata Banerjee:   5%|██▊                                                  | 20/381 [00:08<02:19,  2.58it/s]"
     ]
    },
    {
     "name": "stdout",
     "output_type": "stream",
     "text": [
      "Error loading Mamata Banerjee_120.jpg, skipping...\n"
     ]
    },
    {
     "name": "stderr",
     "output_type": "stream",
     "text": [
      "Processing Mamata Banerjee:  10%|█████▌                                               | 40/381 [00:16<02:18,  2.47it/s]"
     ]
    },
    {
     "name": "stdout",
     "output_type": "stream",
     "text": [
      "Error loading Mamata Banerjee_141.jpg, skipping...\n"
     ]
    },
    {
     "name": "stderr",
     "output_type": "stream",
     "text": [
      "Processing Mamata Banerjee:  23%|████████████                                         | 87/381 [00:35<02:09,  2.28it/s]"
     ]
    },
    {
     "name": "stdout",
     "output_type": "stream",
     "text": [
      "No face detected in Mamata Banerjee_187.jpg\n"
     ]
    },
    {
     "name": "stderr",
     "output_type": "stream",
     "text": [
      "Processing Mamata Banerjee:  24%|████████████▋                                        | 91/381 [00:37<01:55,  2.51it/s]"
     ]
    },
    {
     "name": "stdout",
     "output_type": "stream",
     "text": [
      "Error loading Mamata Banerjee_191.jpg, skipping...\n",
      "Error loading Mamata Banerjee_192.jpg, skipping...\n"
     ]
    },
    {
     "name": "stderr",
     "output_type": "stream",
     "text": [
      "Processing Mamata Banerjee:  29%|███████████████                                     | 110/381 [00:44<01:53,  2.38it/s]"
     ]
    },
    {
     "name": "stdout",
     "output_type": "stream",
     "text": [
      "Error loading Mamata Banerjee_21.jpg, skipping...\n"
     ]
    },
    {
     "name": "stderr",
     "output_type": "stream",
     "text": [
      "Processing Mamata Banerjee:  48%|████████████████████████▉                           | 183/381 [01:13<01:20,  2.45it/s]"
     ]
    },
    {
     "name": "stdout",
     "output_type": "stream",
     "text": [
      "No face detected in Mamata Banerjee_279.jpg\n"
     ]
    },
    {
     "name": "stderr",
     "output_type": "stream",
     "text": [
      "Processing Mamata Banerjee:  52%|███████████████████████████                         | 198/381 [01:19<01:13,  2.48it/s]"
     ]
    },
    {
     "name": "stdout",
     "output_type": "stream",
     "text": [
      "Error loading Mamata Banerjee_295.jpg, skipping...\n"
     ]
    },
    {
     "name": "stderr",
     "output_type": "stream",
     "text": [
      "Processing Mamata Banerjee:  60%|███████████████████████████████▎                    | 229/381 [01:31<00:55,  2.75it/s]"
     ]
    },
    {
     "name": "stdout",
     "output_type": "stream",
     "text": [
      "No face detected in Mamata Banerjee_324.jpg\n"
     ]
    },
    {
     "name": "stderr",
     "output_type": "stream",
     "text": [
      "Processing Mamata Banerjee:  65%|█████████████████████████████████▉                  | 249/381 [01:39<00:46,  2.83it/s]"
     ]
    },
    {
     "name": "stdout",
     "output_type": "stream",
     "text": [
      "No face detected in Mamata Banerjee_343.jpg\n"
     ]
    },
    {
     "name": "stderr",
     "output_type": "stream",
     "text": [
      "Processing Mamata Banerjee:  71%|████████████████████████████████████▉               | 271/381 [01:49<00:44,  2.47it/s]"
     ]
    },
    {
     "name": "stdout",
     "output_type": "stream",
     "text": [
      "No face detected in Mamata Banerjee_365.jpg\n"
     ]
    },
    {
     "name": "stderr",
     "output_type": "stream",
     "text": [
      "Processing Mamata Banerjee:  76%|███████████████████████████████████████▍            | 289/381 [01:56<00:30,  3.00it/s]"
     ]
    },
    {
     "name": "stdout",
     "output_type": "stream",
     "text": [
      "No face detected in Mamata Banerjee_381.jpg\n"
     ]
    },
    {
     "name": "stderr",
     "output_type": "stream",
     "text": [
      "Processing Mamata Banerjee:  76%|███████████████████████████████████████▌            | 290/381 [01:56<00:30,  2.94it/s]"
     ]
    },
    {
     "name": "stdout",
     "output_type": "stream",
     "text": [
      "No face detected in Mamata Banerjee_382.jpg\n"
     ]
    },
    {
     "name": "stderr",
     "output_type": "stream",
     "text": [
      "Processing Mamata Banerjee:  77%|████████████████████████████████████████▏           | 294/381 [01:57<00:31,  2.76it/s]"
     ]
    },
    {
     "name": "stdout",
     "output_type": "stream",
     "text": [
      "No face detected in Mamata Banerjee_386.jpg\n"
     ]
    },
    {
     "name": "stderr",
     "output_type": "stream",
     "text": [
      "Processing Mamata Banerjee:  77%|████████████████████████████████████████▎           | 295/381 [01:58<00:31,  2.77it/s]"
     ]
    },
    {
     "name": "stdout",
     "output_type": "stream",
     "text": [
      "No face detected in Mamata Banerjee_387.jpg\n"
     ]
    },
    {
     "name": "stderr",
     "output_type": "stream",
     "text": [
      "Processing Mamata Banerjee:  80%|█████████████████████████████████████████▎          | 303/381 [02:01<00:27,  2.85it/s]"
     ]
    },
    {
     "name": "stdout",
     "output_type": "stream",
     "text": [
      "No face detected in Mamata Banerjee_394.jpg\n"
     ]
    },
    {
     "name": "stderr",
     "output_type": "stream",
     "text": [
      "Processing Mamata Banerjee:  84%|███████████████████████████████████████████▊        | 321/381 [02:08<00:23,  2.50it/s]"
     ]
    },
    {
     "name": "stdout",
     "output_type": "stream",
     "text": [
      "No face detected in Mamata Banerjee_411.jpg\n"
     ]
    },
    {
     "name": "stderr",
     "output_type": "stream",
     "text": [
      "Processing Mamata Banerjee:  85%|████████████████████████████████████████████▏       | 324/381 [02:10<00:21,  2.67it/s]"
     ]
    },
    {
     "name": "stdout",
     "output_type": "stream",
     "text": [
      "No face detected in Mamata Banerjee_414.jpg\n"
     ]
    },
    {
     "name": "stderr",
     "output_type": "stream",
     "text": [
      "Processing Mamata Banerjee:  86%|████████████████████████████████████████████▋       | 327/381 [02:11<00:23,  2.25it/s]"
     ]
    },
    {
     "name": "stdout",
     "output_type": "stream",
     "text": [
      "No face detected in Mamata Banerjee_417.jpg\n"
     ]
    },
    {
     "name": "stderr",
     "output_type": "stream",
     "text": [
      "Processing Mamata Banerjee:  94%|████████████████████████████████████████████████▋   | 357/381 [02:24<00:11,  2.10it/s]"
     ]
    },
    {
     "name": "stdout",
     "output_type": "stream",
     "text": [
      "Error loading Mamata Banerjee_72.jpg, skipping...\n"
     ]
    },
    {
     "name": "stderr",
     "output_type": "stream",
     "text": [
      "Processing Mamata Banerjee: 100%|████████████████████████████████████████████████████| 381/381 [02:33<00:00,  2.48it/s]\n",
      "Processing MK Stalin:  20%|███████████▌                                               | 75/382 [00:31<02:08,  2.38it/s]"
     ]
    },
    {
     "name": "stdout",
     "output_type": "stream",
     "text": [
      "No face detected in MK Stalin_175.jpg\n"
     ]
    },
    {
     "name": "stderr",
     "output_type": "stream",
     "text": [
      "Processing MK Stalin:  30%|█████████████████▍                                        | 115/382 [00:47<01:45,  2.53it/s]"
     ]
    },
    {
     "name": "stdout",
     "output_type": "stream",
     "text": [
      "No face detected in MK Stalin_215.jpg\n"
     ]
    },
    {
     "name": "stderr",
     "output_type": "stream",
     "text": [
      "Processing MK Stalin:  52%|██████████████████████████████▏                           | 199/382 [01:22<01:09,  2.64it/s]"
     ]
    },
    {
     "name": "stdout",
     "output_type": "stream",
     "text": [
      "No face detected in MK Stalin_294.jpg\n"
     ]
    },
    {
     "name": "stderr",
     "output_type": "stream",
     "text": [
      "Processing MK Stalin:  59%|██████████████████████████████████▏                       | 225/382 [01:32<00:59,  2.63it/s]"
     ]
    },
    {
     "name": "stdout",
     "output_type": "stream",
     "text": [
      "Error loading MK Stalin_321.jpg, skipping...\n"
     ]
    },
    {
     "name": "stderr",
     "output_type": "stream",
     "text": [
      "Processing MK Stalin:  62%|████████████████████████████████████▏                     | 238/382 [01:37<00:47,  3.03it/s]"
     ]
    },
    {
     "name": "stdout",
     "output_type": "stream",
     "text": [
      "No face detected in MK Stalin_335.jpg\n"
     ]
    },
    {
     "name": "stderr",
     "output_type": "stream",
     "text": [
      "Processing MK Stalin:  63%|████████████████████████████████████▋                     | 242/382 [01:38<00:52,  2.65it/s]"
     ]
    },
    {
     "name": "stdout",
     "output_type": "stream",
     "text": [
      "No face detected in MK Stalin_339.jpg\n"
     ]
    },
    {
     "name": "stderr",
     "output_type": "stream",
     "text": [
      "Processing MK Stalin:  68%|███████████████████████████████████████▏                  | 258/382 [01:45<00:43,  2.84it/s]"
     ]
    },
    {
     "name": "stdout",
     "output_type": "stream",
     "text": [
      "No face detected in MK Stalin_355.jpg\n"
     ]
    },
    {
     "name": "stderr",
     "output_type": "stream",
     "text": [
      "Processing MK Stalin:  70%|████████████████████████████████████████▌                 | 267/382 [01:49<00:48,  2.39it/s]"
     ]
    },
    {
     "name": "stdout",
     "output_type": "stream",
     "text": [
      "No face detected in MK Stalin_363.jpg\n"
     ]
    },
    {
     "name": "stderr",
     "output_type": "stream",
     "text": [
      "Processing MK Stalin:  70%|████████████████████████████████████████▋                 | 268/382 [01:50<00:45,  2.49it/s]"
     ]
    },
    {
     "name": "stdout",
     "output_type": "stream",
     "text": [
      "No face detected in MK Stalin_364.jpg\n"
     ]
    },
    {
     "name": "stderr",
     "output_type": "stream",
     "text": [
      "Processing MK Stalin:  75%|███████████████████████████████████████████▌              | 287/382 [01:58<00:39,  2.41it/s]"
     ]
    },
    {
     "name": "stdout",
     "output_type": "stream",
     "text": [
      "No face detected in MK Stalin_381.jpg\n"
     ]
    },
    {
     "name": "stderr",
     "output_type": "stream",
     "text": [
      "Processing MK Stalin:  88%|███████████████████████████████████████████████████▏      | 337/382 [02:18<00:18,  2.48it/s]"
     ]
    },
    {
     "name": "stdout",
     "output_type": "stream",
     "text": [
      "Error loading MK Stalin_55.jpg, skipping...\n"
     ]
    },
    {
     "name": "stderr",
     "output_type": "stream",
     "text": [
      "Processing MK Stalin: 100%|██████████████████████████████████████████████████████████| 382/382 [02:36<00:00,  2.43it/s]\n",
      "Processing Narendra Modi:   6%|███▏                                                   | 18/315 [00:07<02:14,  2.21it/s]"
     ]
    },
    {
     "name": "stdout",
     "output_type": "stream",
     "text": [
      "Error loading Narendra Modi_116.jpg, skipping...\n"
     ]
    },
    {
     "name": "stderr",
     "output_type": "stream",
     "text": [
      "Processing Narendra Modi:  12%|██████▊                                                | 39/315 [00:16<01:59,  2.31it/s]"
     ]
    },
    {
     "name": "stdout",
     "output_type": "stream",
     "text": [
      "Error loading Narendra Modi_141.jpg, skipping...\n"
     ]
    },
    {
     "name": "stderr",
     "output_type": "stream",
     "text": [
      "Processing Narendra Modi:  14%|███████▌                                               | 43/315 [00:17<01:47,  2.52it/s]"
     ]
    },
    {
     "name": "stdout",
     "output_type": "stream",
     "text": [
      "No face detected in Narendra Modi_144.jpg\n"
     ]
    },
    {
     "name": "stderr",
     "output_type": "stream",
     "text": [
      "Processing Narendra Modi:  18%|██████████▏                                            | 58/315 [00:24<01:58,  2.16it/s]"
     ]
    },
    {
     "name": "stdout",
     "output_type": "stream",
     "text": [
      "No face detected in Narendra Modi_159.jpg\n"
     ]
    },
    {
     "name": "stderr",
     "output_type": "stream",
     "text": [
      "Processing Narendra Modi:  32%|█████████████████▏                                    | 100/315 [00:44<01:31,  2.34it/s]"
     ]
    },
    {
     "name": "stdout",
     "output_type": "stream",
     "text": [
      "No face detected in Narendra Modi_199.jpg\n"
     ]
    },
    {
     "name": "stderr",
     "output_type": "stream",
     "text": [
      "Processing Narendra Modi:  33%|██████████████████                                    | 105/315 [00:46<01:29,  2.35it/s]"
     ]
    },
    {
     "name": "stdout",
     "output_type": "stream",
     "text": [
      "Error loading Narendra Modi_203.jpg, skipping...\n"
     ]
    },
    {
     "name": "stderr",
     "output_type": "stream",
     "text": [
      "Processing Narendra Modi:  37%|████████████████████                                  | 117/315 [00:51<01:29,  2.22it/s]"
     ]
    },
    {
     "name": "stdout",
     "output_type": "stream",
     "text": [
      "No face detected in Narendra Modi_216.jpg\n"
     ]
    },
    {
     "name": "stderr",
     "output_type": "stream",
     "text": [
      "Processing Narendra Modi:  39%|████████████████████▉                                 | 122/315 [00:53<01:27,  2.22it/s]"
     ]
    },
    {
     "name": "stdout",
     "output_type": "stream",
     "text": [
      "No face detected in Narendra Modi_221.jpg\n"
     ]
    },
    {
     "name": "stderr",
     "output_type": "stream",
     "text": [
      "Processing Narendra Modi:  46%|█████████████████████████                             | 146/315 [01:04<01:11,  2.37it/s]"
     ]
    },
    {
     "name": "stdout",
     "output_type": "stream",
     "text": [
      "Error loading Narendra Modi_247.jpg, skipping...\n"
     ]
    },
    {
     "name": "stderr",
     "output_type": "stream",
     "text": [
      "Processing Narendra Modi:  59%|███████████████████████████████▉                      | 186/315 [01:21<00:58,  2.21it/s]"
     ]
    },
    {
     "name": "stdout",
     "output_type": "stream",
     "text": [
      "No face detected in Narendra Modi_284.jpg\n"
     ]
    },
    {
     "name": "stderr",
     "output_type": "stream",
     "text": [
      "Processing Narendra Modi:  65%|███████████████████████████████████▏                  | 205/315 [01:29<00:49,  2.22it/s]"
     ]
    },
    {
     "name": "stdout",
     "output_type": "stream",
     "text": [
      "No face detected in Narendra Modi_302.jpg\n"
     ]
    },
    {
     "name": "stderr",
     "output_type": "stream",
     "text": [
      "Processing Narendra Modi:  70%|█████████████████████████████████████▉                | 221/315 [01:35<00:31,  3.00it/s]"
     ]
    },
    {
     "name": "stdout",
     "output_type": "stream",
     "text": [
      "No face detected in Narendra Modi_318.jpg\n"
     ]
    },
    {
     "name": "stderr",
     "output_type": "stream",
     "text": [
      "Processing Narendra Modi:  75%|████████████████████████████████████████▋             | 237/315 [01:41<00:27,  2.82it/s]"
     ]
    },
    {
     "name": "stdout",
     "output_type": "stream",
     "text": [
      "No face detected in Narendra Modi_332.jpg\n"
     ]
    },
    {
     "name": "stderr",
     "output_type": "stream",
     "text": [
      "Processing Narendra Modi:  76%|████████████████████████████████████████▉             | 239/315 [01:41<00:25,  3.01it/s]"
     ]
    },
    {
     "name": "stdout",
     "output_type": "stream",
     "text": [
      "No face detected in Narendra Modi_334.jpg\n"
     ]
    },
    {
     "name": "stderr",
     "output_type": "stream",
     "text": [
      "Processing Narendra Modi:  78%|██████████████████████████████████████████▎           | 247/315 [01:44<00:24,  2.77it/s]"
     ]
    },
    {
     "name": "stdout",
     "output_type": "stream",
     "text": [
      "No face detected in Narendra Modi_341.jpg\n"
     ]
    },
    {
     "name": "stderr",
     "output_type": "stream",
     "text": [
      "Processing Narendra Modi:  81%|███████████████████████████████████████████▌          | 254/315 [01:47<00:19,  3.10it/s]"
     ]
    },
    {
     "name": "stdout",
     "output_type": "stream",
     "text": [
      "No face detected in Narendra Modi_35.jpg\n"
     ]
    },
    {
     "name": "stderr",
     "output_type": "stream",
     "text": [
      "Processing Narendra Modi:  87%|███████████████████████████████████████████████▏      | 275/315 [01:54<00:13,  2.88it/s]"
     ]
    },
    {
     "name": "stdout",
     "output_type": "stream",
     "text": [
      "No face detected in Narendra Modi_58.jpg\n"
     ]
    },
    {
     "name": "stderr",
     "output_type": "stream",
     "text": [
      "Processing Narendra Modi:  93%|██████████████████████████████████████████████████▏   | 293/315 [02:00<00:07,  2.95it/s]"
     ]
    },
    {
     "name": "stdout",
     "output_type": "stream",
     "text": [
      "Error loading Narendra Modi_76.jpg, skipping...\n",
      "Error loading Narendra Modi_78.jpg, skipping...\n"
     ]
    },
    {
     "name": "stderr",
     "output_type": "stream",
     "text": [
      "Processing Narendra Modi:  96%|███████████████████████████████████████████████████▉  | 303/315 [02:03<00:04,  2.89it/s]"
     ]
    },
    {
     "name": "stdout",
     "output_type": "stream",
     "text": [
      "No face detected in Narendra Modi_87.jpg\n"
     ]
    },
    {
     "name": "stderr",
     "output_type": "stream",
     "text": [
      "Processing Narendra Modi: 100%|██████████████████████████████████████████████████████| 315/315 [02:08<00:00,  2.46it/s]\n",
      "Processing Naveen Patnaik:   3%|█▍                                                    | 10/372 [00:03<01:53,  3.18it/s]"
     ]
    },
    {
     "name": "stdout",
     "output_type": "stream",
     "text": [
      "Error loading Naveen Patnaik_108.jpg, skipping...\n"
     ]
    },
    {
     "name": "stderr",
     "output_type": "stream",
     "text": [
      "Processing Naveen Patnaik:  10%|█████▎                                                | 37/372 [00:11<01:36,  3.48it/s]"
     ]
    },
    {
     "name": "stdout",
     "output_type": "stream",
     "text": [
      "Error loading Naveen Patnaik_133.jpg, skipping...\n"
     ]
    },
    {
     "name": "stderr",
     "output_type": "stream",
     "text": [
      "Processing Naveen Patnaik:  13%|██████▉                                               | 48/372 [00:14<01:39,  3.27it/s]"
     ]
    },
    {
     "name": "stdout",
     "output_type": "stream",
     "text": [
      "No face detected in Naveen Patnaik_142.jpg\n"
     ]
    },
    {
     "name": "stderr",
     "output_type": "stream",
     "text": [
      "Processing Naveen Patnaik:  34%|██████████████████▏                                  | 128/372 [00:38<01:13,  3.31it/s]"
     ]
    },
    {
     "name": "stdout",
     "output_type": "stream",
     "text": [
      "No face detected in Naveen Patnaik_220.jpg\n"
     ]
    },
    {
     "name": "stderr",
     "output_type": "stream",
     "text": [
      "Processing Naveen Patnaik:  37%|███████████████████▌                                 | 137/372 [00:41<01:10,  3.34it/s]"
     ]
    },
    {
     "name": "stdout",
     "output_type": "stream",
     "text": [
      "Error loading Naveen Patnaik_230.jpg, skipping...\n"
     ]
    },
    {
     "name": "stderr",
     "output_type": "stream",
     "text": [
      "Processing Naveen Patnaik:  40%|█████████████████████                                | 148/372 [00:44<01:13,  3.04it/s]"
     ]
    },
    {
     "name": "stdout",
     "output_type": "stream",
     "text": [
      "Error loading Naveen Patnaik_240.jpg, skipping...\n"
     ]
    },
    {
     "name": "stderr",
     "output_type": "stream",
     "text": [
      "Processing Naveen Patnaik:  52%|███████████████████████████▍                         | 193/372 [00:58<00:56,  3.15it/s]"
     ]
    },
    {
     "name": "stdout",
     "output_type": "stream",
     "text": [
      "Error loading Naveen Patnaik_285.jpg, skipping...\n"
     ]
    },
    {
     "name": "stderr",
     "output_type": "stream",
     "text": [
      "Processing Naveen Patnaik:  54%|████████████████████████████▍                        | 200/372 [01:00<00:49,  3.51it/s]"
     ]
    },
    {
     "name": "stdout",
     "output_type": "stream",
     "text": [
      "Error loading Naveen Patnaik_291.jpg, skipping...\n"
     ]
    },
    {
     "name": "stderr",
     "output_type": "stream",
     "text": [
      "Processing Naveen Patnaik:  55%|█████████████████████████████▎                       | 206/372 [01:01<00:43,  3.80it/s]"
     ]
    },
    {
     "name": "stdout",
     "output_type": "stream",
     "text": [
      "No face detected in Naveen Patnaik_296.jpg\n"
     ]
    },
    {
     "name": "stderr",
     "output_type": "stream",
     "text": [
      "Processing Naveen Patnaik:  65%|██████████████████████████████████▍                  | 242/372 [01:12<00:40,  3.17it/s]"
     ]
    },
    {
     "name": "stdout",
     "output_type": "stream",
     "text": [
      "No face detected in Naveen Patnaik_329.jpg\n",
      "Error loading Naveen Patnaik_33.jpg, skipping...\n"
     ]
    },
    {
     "name": "stderr",
     "output_type": "stream",
     "text": [
      "Processing Naveen Patnaik:  70%|█████████████████████████████████████▎               | 262/372 [01:18<00:33,  3.28it/s]"
     ]
    },
    {
     "name": "stdout",
     "output_type": "stream",
     "text": [
      "No face detected in Naveen Patnaik_347.jpg\n"
     ]
    },
    {
     "name": "stderr",
     "output_type": "stream",
     "text": [
      "Processing Naveen Patnaik:  72%|██████████████████████████████████████               | 267/372 [01:19<00:31,  3.30it/s]"
     ]
    },
    {
     "name": "stdout",
     "output_type": "stream",
     "text": [
      "Error loading Naveen Patnaik_355.jpg, skipping...\n"
     ]
    },
    {
     "name": "stderr",
     "output_type": "stream",
     "text": [
      "Processing Naveen Patnaik:  73%|██████████████████████████████████████▌              | 271/372 [01:20<00:24,  4.19it/s]"
     ]
    },
    {
     "name": "stdout",
     "output_type": "stream",
     "text": [
      "No face detected in Naveen Patnaik_358.jpg\n",
      "No face detected in Naveen Patnaik_359.jpg\n"
     ]
    },
    {
     "name": "stderr",
     "output_type": "stream",
     "text": [
      "Processing Naveen Patnaik:  75%|███████████████████████████████████████▊             | 279/372 [01:23<00:29,  3.15it/s]"
     ]
    },
    {
     "name": "stdout",
     "output_type": "stream",
     "text": [
      "Error loading Naveen Patnaik_366.jpg, skipping...\n"
     ]
    },
    {
     "name": "stderr",
     "output_type": "stream",
     "text": [
      "Processing Naveen Patnaik:  77%|████████████████████████████████████████▋            | 286/372 [01:25<00:23,  3.73it/s]"
     ]
    },
    {
     "name": "stdout",
     "output_type": "stream",
     "text": [
      "No face detected in Naveen Patnaik_370.jpg\n",
      "No face detected in Naveen Patnaik_371.jpg\n"
     ]
    },
    {
     "name": "stderr",
     "output_type": "stream",
     "text": [
      "Processing Naveen Patnaik:  77%|████████████████████████████████████████▉            | 287/372 [01:25<00:21,  3.99it/s]"
     ]
    },
    {
     "name": "stdout",
     "output_type": "stream",
     "text": [
      "No face detected in Naveen Patnaik_372.jpg\n"
     ]
    },
    {
     "name": "stderr",
     "output_type": "stream",
     "text": [
      "Processing Naveen Patnaik:  78%|█████████████████████████████████████████▍           | 291/372 [01:26<00:18,  4.31it/s]"
     ]
    },
    {
     "name": "stdout",
     "output_type": "stream",
     "text": [
      "No face detected in Naveen Patnaik_375.jpg\n"
     ]
    },
    {
     "name": "stderr",
     "output_type": "stream",
     "text": [
      "Processing Naveen Patnaik:  79%|█████████████████████████████████████████▉           | 294/372 [01:27<00:19,  4.10it/s]"
     ]
    },
    {
     "name": "stdout",
     "output_type": "stream",
     "text": [
      "No face detected in Naveen Patnaik_379.jpg\n"
     ]
    },
    {
     "name": "stderr",
     "output_type": "stream",
     "text": [
      "Processing Naveen Patnaik:  80%|██████████████████████████████████████████▎          | 297/372 [01:27<00:17,  4.31it/s]"
     ]
    },
    {
     "name": "stdout",
     "output_type": "stream",
     "text": [
      "No face detected in Naveen Patnaik_381.jpg\n"
     ]
    },
    {
     "name": "stderr",
     "output_type": "stream",
     "text": [
      "Processing Naveen Patnaik:  80%|██████████████████████████████████████████▍          | 298/372 [01:28<00:20,  3.62it/s]"
     ]
    },
    {
     "name": "stdout",
     "output_type": "stream",
     "text": [
      "No face detected in Naveen Patnaik_382.jpg\n"
     ]
    },
    {
     "name": "stderr",
     "output_type": "stream",
     "text": [
      "Processing Naveen Patnaik:  81%|██████████████████████████████████████████▉          | 301/372 [01:28<00:18,  3.88it/s]"
     ]
    },
    {
     "name": "stdout",
     "output_type": "stream",
     "text": [
      "No face detected in Naveen Patnaik_384.jpg\n",
      "No face detected in Naveen Patnaik_385.jpg\n"
     ]
    },
    {
     "name": "stderr",
     "output_type": "stream",
     "text": [
      "Processing Naveen Patnaik:  81%|███████████████████████████████████████████          | 302/372 [01:29<00:16,  4.23it/s]"
     ]
    },
    {
     "name": "stdout",
     "output_type": "stream",
     "text": [
      "No face detected in Naveen Patnaik_386.jpg\n"
     ]
    },
    {
     "name": "stderr",
     "output_type": "stream",
     "text": [
      "Processing Naveen Patnaik:  82%|███████████████████████████████████████████▍         | 305/372 [01:29<00:18,  3.72it/s]"
     ]
    },
    {
     "name": "stdout",
     "output_type": "stream",
     "text": [
      "No face detected in Naveen Patnaik_389.jpg\n"
     ]
    },
    {
     "name": "stderr",
     "output_type": "stream",
     "text": [
      "Processing Naveen Patnaik:  83%|████████████████████████████████████████████▏        | 310/372 [01:31<00:14,  4.38it/s]"
     ]
    },
    {
     "name": "stdout",
     "output_type": "stream",
     "text": [
      "No face detected in Naveen Patnaik_392.jpg\n",
      "No face detected in Naveen Patnaik_393.jpg\n"
     ]
    },
    {
     "name": "stderr",
     "output_type": "stream",
     "text": [
      "Processing Naveen Patnaik:  84%|████████████████████████████████████████████▍        | 312/372 [01:31<00:14,  4.01it/s]"
     ]
    },
    {
     "name": "stdout",
     "output_type": "stream",
     "text": [
      "No face detected in Naveen Patnaik_395.jpg\n"
     ]
    },
    {
     "name": "stderr",
     "output_type": "stream",
     "text": [
      "Processing Naveen Patnaik: 100%|█████████████████████████████████████████████████████| 372/372 [01:49<00:00,  3.38it/s]\n",
      "Processing Nitish Kumar:   4%|██▎                                                     | 15/363 [00:04<01:53,  3.07it/s]"
     ]
    },
    {
     "name": "stdout",
     "output_type": "stream",
     "text": [
      "No face detected in Nitish Kumar_113.jpg\n"
     ]
    },
    {
     "name": "stderr",
     "output_type": "stream",
     "text": [
      "Processing Nitish Kumar:   9%|█████                                                   | 33/363 [00:10<02:03,  2.67it/s]"
     ]
    },
    {
     "name": "stdout",
     "output_type": "stream",
     "text": [
      "Error loading Nitish Kumar_132.jpg, skipping...\n"
     ]
    },
    {
     "name": "stderr",
     "output_type": "stream",
     "text": [
      "Processing Nitish Kumar:  17%|█████████▎                                              | 60/363 [00:18<01:31,  3.32it/s]"
     ]
    },
    {
     "name": "stdout",
     "output_type": "stream",
     "text": [
      "Error loading Nitish Kumar_158.jpg, skipping...\n"
     ]
    },
    {
     "name": "stderr",
     "output_type": "stream",
     "text": [
      "Processing Nitish Kumar:  34%|██████████████████▊                                    | 124/363 [00:38<01:02,  3.82it/s]"
     ]
    },
    {
     "name": "stdout",
     "output_type": "stream",
     "text": [
      "No face detected in Nitish Kumar_219.jpg\n"
     ]
    },
    {
     "name": "stderr",
     "output_type": "stream",
     "text": [
      "Processing Nitish Kumar:  35%|███████████████████▍                                   | 128/363 [00:39<01:08,  3.43it/s]"
     ]
    },
    {
     "name": "stdout",
     "output_type": "stream",
     "text": [
      "Error loading Nitish Kumar_223.jpg, skipping...\n",
      "No face detected in Nitish Kumar_224.jpg\n"
     ]
    },
    {
     "name": "stderr",
     "output_type": "stream",
     "text": [
      "Processing Nitish Kumar:  37%|████████████████████▌                                  | 136/363 [00:41<01:05,  3.45it/s]"
     ]
    },
    {
     "name": "stdout",
     "output_type": "stream",
     "text": [
      "Error loading Nitish Kumar_230.jpg, skipping...\n"
     ]
    },
    {
     "name": "stderr",
     "output_type": "stream",
     "text": [
      "Processing Nitish Kumar:  52%|████████████████████████████▋                          | 189/363 [00:57<00:56,  3.07it/s]"
     ]
    },
    {
     "name": "stdout",
     "output_type": "stream",
     "text": [
      "Error loading Nitish Kumar_282.jpg, skipping...\n"
     ]
    },
    {
     "name": "stderr",
     "output_type": "stream",
     "text": [
      "Processing Nitish Kumar:  67%|█████████████████████████████████████                  | 245/363 [01:15<00:37,  3.14it/s]"
     ]
    },
    {
     "name": "stdout",
     "output_type": "stream",
     "text": [
      "Error loading Nitish Kumar_338.jpg, skipping...\n"
     ]
    },
    {
     "name": "stderr",
     "output_type": "stream",
     "text": [
      "Processing Nitish Kumar:  69%|█████████████████████████████████████▉                 | 250/363 [01:16<00:31,  3.59it/s]"
     ]
    },
    {
     "name": "stdout",
     "output_type": "stream",
     "text": [
      "No face detected in Nitish Kumar_341.jpg\n"
     ]
    },
    {
     "name": "stderr",
     "output_type": "stream",
     "text": [
      "Processing Nitish Kumar:  73%|████████████████████████████████████████▎              | 266/363 [01:21<00:29,  3.26it/s]"
     ]
    },
    {
     "name": "stdout",
     "output_type": "stream",
     "text": [
      "No face detected in Nitish Kumar_357.jpg\n"
     ]
    },
    {
     "name": "stderr",
     "output_type": "stream",
     "text": [
      "Processing Nitish Kumar:  75%|█████████████████████████████████████████▏             | 272/363 [01:23<00:28,  3.23it/s]"
     ]
    },
    {
     "name": "stdout",
     "output_type": "stream",
     "text": [
      "No face detected in Nitish Kumar_362.jpg\n"
     ]
    },
    {
     "name": "stderr",
     "output_type": "stream",
     "text": [
      "Processing Nitish Kumar:  76%|█████████████████████████████████████████▊             | 276/363 [01:24<00:26,  3.25it/s]"
     ]
    },
    {
     "name": "stdout",
     "output_type": "stream",
     "text": [
      "No face detected in Nitish Kumar_366.jpg\n"
     ]
    },
    {
     "name": "stderr",
     "output_type": "stream",
     "text": [
      "Processing Nitish Kumar:  91%|█████████████████████████████████████████████████▊     | 329/363 [01:41<00:10,  3.17it/s]"
     ]
    },
    {
     "name": "stdout",
     "output_type": "stream",
     "text": [
      "No face detected in Nitish Kumar_68.jpg\n"
     ]
    },
    {
     "name": "stderr",
     "output_type": "stream",
     "text": [
      "Processing Nitish Kumar: 100%|███████████████████████████████████████████████████████| 363/363 [01:51<00:00,  3.24it/s]\n",
      "Processing Pinarayi Vijayan:   1%|▎                                                    | 2/359 [00:00<01:40,  3.56it/s]"
     ]
    },
    {
     "name": "stdout",
     "output_type": "stream",
     "text": [
      "No face detected in Pinarayi Vijayan_100.jpg\n"
     ]
    },
    {
     "name": "stderr",
     "output_type": "stream",
     "text": [
      "Processing Pinarayi Vijayan:   2%|▉                                                    | 6/359 [00:01<01:50,  3.19it/s]"
     ]
    },
    {
     "name": "stdout",
     "output_type": "stream",
     "text": [
      "No face detected in Pinarayi Vijayan_104.jpg\n"
     ]
    },
    {
     "name": "stderr",
     "output_type": "stream",
     "text": [
      "Processing Pinarayi Vijayan:   3%|█▌                                                  | 11/359 [00:03<01:44,  3.32it/s]"
     ]
    },
    {
     "name": "stdout",
     "output_type": "stream",
     "text": [
      "No face detected in Pinarayi Vijayan_109.jpg\n"
     ]
    },
    {
     "name": "stderr",
     "output_type": "stream",
     "text": [
      "Processing Pinarayi Vijayan:   6%|███▏                                                | 22/359 [00:06<01:45,  3.20it/s]"
     ]
    },
    {
     "name": "stdout",
     "output_type": "stream",
     "text": [
      "No face detected in Pinarayi Vijayan_120.jpg\n"
     ]
    },
    {
     "name": "stderr",
     "output_type": "stream",
     "text": [
      "Processing Pinarayi Vijayan:  14%|███████                                             | 49/359 [00:15<01:36,  3.22it/s]"
     ]
    },
    {
     "name": "stdout",
     "output_type": "stream",
     "text": [
      "No face detected in Pinarayi Vijayan_147.jpg\n"
     ]
    },
    {
     "name": "stderr",
     "output_type": "stream",
     "text": [
      "Processing Pinarayi Vijayan:  15%|███████▉                                            | 55/359 [00:17<01:29,  3.41it/s]"
     ]
    },
    {
     "name": "stdout",
     "output_type": "stream",
     "text": [
      "Error loading Pinarayi Vijayan_153.jpg, skipping...\n"
     ]
    },
    {
     "name": "stderr",
     "output_type": "stream",
     "text": [
      "Processing Pinarayi Vijayan:  20%|██████████▍                                         | 72/359 [00:22<01:36,  2.98it/s]"
     ]
    },
    {
     "name": "stdout",
     "output_type": "stream",
     "text": [
      "Error loading Pinarayi Vijayan_173.jpg, skipping...\n"
     ]
    },
    {
     "name": "stderr",
     "output_type": "stream",
     "text": [
      "Processing Pinarayi Vijayan:  25%|████████████▉                                       | 89/359 [00:27<01:20,  3.36it/s]"
     ]
    },
    {
     "name": "stdout",
     "output_type": "stream",
     "text": [
      "Error loading Pinarayi Vijayan_191.jpg, skipping...\n"
     ]
    },
    {
     "name": "stderr",
     "output_type": "stream",
     "text": [
      "Processing Pinarayi Vijayan:  43%|█████████████████████▉                             | 154/359 [00:47<01:01,  3.31it/s]"
     ]
    },
    {
     "name": "stdout",
     "output_type": "stream",
     "text": [
      "No face detected in Pinarayi Vijayan_250.jpg\n"
     ]
    },
    {
     "name": "stderr",
     "output_type": "stream",
     "text": [
      "Processing Pinarayi Vijayan:  43%|██████████████████████                             | 155/359 [00:47<01:07,  3.01it/s]"
     ]
    },
    {
     "name": "stdout",
     "output_type": "stream",
     "text": [
      "No face detected in Pinarayi Vijayan_251.jpg\n"
     ]
    },
    {
     "name": "stderr",
     "output_type": "stream",
     "text": [
      "Processing Pinarayi Vijayan:  44%|██████████████████████▍                            | 158/359 [00:48<01:03,  3.15it/s]"
     ]
    },
    {
     "name": "stdout",
     "output_type": "stream",
     "text": [
      "No face detected in Pinarayi Vijayan_255.jpg\n"
     ]
    },
    {
     "name": "stderr",
     "output_type": "stream",
     "text": [
      "Processing Pinarayi Vijayan:  58%|█████████████████████████████▊                     | 210/359 [01:04<00:43,  3.46it/s]"
     ]
    },
    {
     "name": "stdout",
     "output_type": "stream",
     "text": [
      "No face detected in Pinarayi Vijayan_303.jpg\n"
     ]
    },
    {
     "name": "stderr",
     "output_type": "stream",
     "text": [
      "Processing Pinarayi Vijayan:  63%|████████████████████████████████                   | 226/359 [01:09<00:41,  3.23it/s]"
     ]
    },
    {
     "name": "stdout",
     "output_type": "stream",
     "text": [
      "Error loading Pinarayi Vijayan_32.jpg, skipping...\n"
     ]
    },
    {
     "name": "stderr",
     "output_type": "stream",
     "text": [
      "Processing Pinarayi Vijayan:  66%|█████████████████████████████████▋                 | 237/359 [01:12<00:33,  3.59it/s]"
     ]
    },
    {
     "name": "stdout",
     "output_type": "stream",
     "text": [
      "No face detected in Pinarayi Vijayan_33.jpg\n",
      "No face detected in Pinarayi Vijayan_330.jpg\n"
     ]
    },
    {
     "name": "stderr",
     "output_type": "stream",
     "text": [
      "Processing Pinarayi Vijayan:  69%|██████████████████████████████████▉                | 246/359 [01:15<00:31,  3.62it/s]"
     ]
    },
    {
     "name": "stdout",
     "output_type": "stream",
     "text": [
      "No face detected in Pinarayi Vijayan_338.jpg\n"
     ]
    },
    {
     "name": "stderr",
     "output_type": "stream",
     "text": [
      "Processing Pinarayi Vijayan:  73%|█████████████████████████████████████▎             | 263/359 [01:19<00:24,  3.91it/s]"
     ]
    },
    {
     "name": "stdout",
     "output_type": "stream",
     "text": [
      "No face detected in Pinarayi Vijayan_353.jpg\n"
     ]
    },
    {
     "name": "stderr",
     "output_type": "stream",
     "text": [
      "Processing Pinarayi Vijayan:  74%|█████████████████████████████████████▋             | 265/359 [01:20<00:26,  3.52it/s]"
     ]
    },
    {
     "name": "stdout",
     "output_type": "stream",
     "text": [
      "No face detected in Pinarayi Vijayan_356.jpg\n"
     ]
    },
    {
     "name": "stderr",
     "output_type": "stream",
     "text": [
      "Processing Pinarayi Vijayan:  75%|██████████████████████████████████████             | 268/359 [01:21<00:23,  3.89it/s]"
     ]
    },
    {
     "name": "stdout",
     "output_type": "stream",
     "text": [
      "No face detected in Pinarayi Vijayan_359.jpg\n"
     ]
    },
    {
     "name": "stderr",
     "output_type": "stream",
     "text": [
      "Processing Pinarayi Vijayan:  77%|███████████████████████████████████████▎           | 277/359 [01:24<00:24,  3.37it/s]"
     ]
    },
    {
     "name": "stdout",
     "output_type": "stream",
     "text": [
      "No face detected in Pinarayi Vijayan_367.jpg\n"
     ]
    },
    {
     "name": "stderr",
     "output_type": "stream",
     "text": [
      "Processing Pinarayi Vijayan:  80%|████████████████████████████████████████▊          | 287/359 [01:27<00:21,  3.32it/s]"
     ]
    },
    {
     "name": "stdout",
     "output_type": "stream",
     "text": [
      "No face detected in Pinarayi Vijayan_376.jpg\n"
     ]
    },
    {
     "name": "stderr",
     "output_type": "stream",
     "text": [
      "Processing Pinarayi Vijayan:  81%|█████████████████████████████████████████▏         | 290/359 [01:28<00:21,  3.27it/s]"
     ]
    },
    {
     "name": "stdout",
     "output_type": "stream",
     "text": [
      "No face detected in Pinarayi Vijayan_379.jpg\n"
     ]
    },
    {
     "name": "stderr",
     "output_type": "stream",
     "text": [
      "Processing Pinarayi Vijayan:  81%|█████████████████████████████████████████▎         | 291/359 [01:28<00:21,  3.14it/s]"
     ]
    },
    {
     "name": "stdout",
     "output_type": "stream",
     "text": [
      "No face detected in Pinarayi Vijayan_38.jpg\n"
     ]
    },
    {
     "name": "stderr",
     "output_type": "stream",
     "text": [
      "Processing Pinarayi Vijayan:  82%|█████████████████████████████████████████▌         | 293/359 [01:29<00:20,  3.22it/s]"
     ]
    },
    {
     "name": "stdout",
     "output_type": "stream",
     "text": [
      "No face detected in Pinarayi Vijayan_381.jpg\n",
      "No face detected in Pinarayi Vijayan_382.jpg\n"
     ]
    },
    {
     "name": "stderr",
     "output_type": "stream",
     "text": [
      "Processing Pinarayi Vijayan:  91%|██████████████████████████████████████████████▍    | 327/359 [01:40<00:10,  3.02it/s]"
     ]
    },
    {
     "name": "stdout",
     "output_type": "stream",
     "text": [
      "No face detected in Pinarayi Vijayan_7.jpg\n"
     ]
    },
    {
     "name": "stderr",
     "output_type": "stream",
     "text": [
      "Processing Pinarayi Vijayan:  98%|██████████████████████████████████████████████████ | 352/359 [01:47<00:02,  3.35it/s]"
     ]
    },
    {
     "name": "stdout",
     "output_type": "stream",
     "text": [
      "No face detected in Pinarayi Vijayan_92.jpg\n"
     ]
    },
    {
     "name": "stderr",
     "output_type": "stream",
     "text": [
      "Processing Pinarayi Vijayan: 100%|███████████████████████████████████████████████████| 359/359 [01:50<00:00,  3.26it/s]\n",
      "Processing Rahul Gandhi:   4%|██▎                                                     | 13/314 [00:04<01:39,  3.03it/s]"
     ]
    },
    {
     "name": "stdout",
     "output_type": "stream",
     "text": [
      "No face detected in Rahul Gandhi_114.jpg\n"
     ]
    },
    {
     "name": "stderr",
     "output_type": "stream",
     "text": [
      "Processing Rahul Gandhi:  55%|██████████████████████████████▎                        | 173/314 [00:57<00:55,  2.55it/s]"
     ]
    },
    {
     "name": "stdout",
     "output_type": "stream",
     "text": [
      "No face detected in Rahul Gandhi_309.jpg\n"
     ]
    },
    {
     "name": "stderr",
     "output_type": "stream",
     "text": [
      "Processing Rahul Gandhi:  57%|███████████████████████████████▎                       | 179/314 [00:59<00:41,  3.24it/s]"
     ]
    },
    {
     "name": "stdout",
     "output_type": "stream",
     "text": [
      "No face detected in Rahul Gandhi_314.jpg\n"
     ]
    },
    {
     "name": "stderr",
     "output_type": "stream",
     "text": [
      "Processing Rahul Gandhi:  71%|███████████████████████████████████████                | 223/314 [01:13<00:30,  3.03it/s]"
     ]
    },
    {
     "name": "stdout",
     "output_type": "stream",
     "text": [
      "No face detected in Rahul Gandhi_362.jpg\n"
     ]
    },
    {
     "name": "stderr",
     "output_type": "stream",
     "text": [
      "Processing Rahul Gandhi:  72%|███████████████████████████████████████▍               | 225/314 [01:13<00:29,  3.05it/s]"
     ]
    },
    {
     "name": "stdout",
     "output_type": "stream",
     "text": [
      "No face detected in Rahul Gandhi_364.jpg\n"
     ]
    },
    {
     "name": "stderr",
     "output_type": "stream",
     "text": [
      "Processing Rahul Gandhi:  74%|████████████████████████████████████████▋              | 232/314 [01:16<00:27,  2.97it/s]"
     ]
    },
    {
     "name": "stdout",
     "output_type": "stream",
     "text": [
      "No face detected in Rahul Gandhi_371.jpg\n"
     ]
    },
    {
     "name": "stderr",
     "output_type": "stream",
     "text": [
      "Processing Rahul Gandhi:  80%|███████████████████████████████████████████▊           | 250/314 [01:21<00:18,  3.46it/s]"
     ]
    },
    {
     "name": "stdout",
     "output_type": "stream",
     "text": [
      "No face detected in Rahul Gandhi_39.jpg\n"
     ]
    },
    {
     "name": "stderr",
     "output_type": "stream",
     "text": [
      "Processing Rahul Gandhi:  81%|████████████████████████████████████████████▎          | 253/314 [01:22<00:18,  3.23it/s]"
     ]
    },
    {
     "name": "stdout",
     "output_type": "stream",
     "text": [
      "No face detected in Rahul Gandhi_392.jpg\n",
      "No face detected in Rahul Gandhi_393.jpg\n"
     ]
    },
    {
     "name": "stderr",
     "output_type": "stream",
     "text": [
      "Processing Rahul Gandhi:  82%|█████████████████████████████████████████████▏         | 258/314 [01:24<00:17,  3.26it/s]"
     ]
    },
    {
     "name": "stdout",
     "output_type": "stream",
     "text": [
      "No face detected in Rahul Gandhi_397.jpg\n"
     ]
    },
    {
     "name": "stderr",
     "output_type": "stream",
     "text": [
      "Processing Rahul Gandhi:  86%|███████████████████████████████████████████████▍       | 271/314 [01:28<00:13,  3.17it/s]"
     ]
    },
    {
     "name": "stdout",
     "output_type": "stream",
     "text": [
      "No face detected in Rahul Gandhi_55.jpg\n"
     ]
    },
    {
     "name": "stderr",
     "output_type": "stream",
     "text": [
      "Processing Rahul Gandhi: 100%|███████████████████████████████████████████████████████| 314/314 [01:42<00:00,  3.05it/s]\n",
      "Processing Sharad Pawar:   6%|███▏                                                    | 19/328 [00:05<01:31,  3.37it/s]"
     ]
    },
    {
     "name": "stdout",
     "output_type": "stream",
     "text": [
      "No face detected in Sharad Pawar_116.jpg\n",
      "No face detected in Sharad Pawar_117.jpg\n"
     ]
    },
    {
     "name": "stderr",
     "output_type": "stream",
     "text": [
      "Processing Sharad Pawar:   6%|███▍                                                    | 20/328 [00:06<01:33,  3.31it/s]"
     ]
    },
    {
     "name": "stdout",
     "output_type": "stream",
     "text": [
      "Error loading Sharad Pawar_118.jpg, skipping...\n"
     ]
    },
    {
     "name": "stderr",
     "output_type": "stream",
     "text": [
      "Processing Sharad Pawar:   7%|████                                                    | 24/328 [00:07<01:14,  4.08it/s]"
     ]
    },
    {
     "name": "stdout",
     "output_type": "stream",
     "text": [
      "No face detected in Sharad Pawar_120.jpg\n"
     ]
    },
    {
     "name": "stderr",
     "output_type": "stream",
     "text": [
      "Processing Sharad Pawar:   8%|████▎                                                   | 25/328 [00:07<01:19,  3.81it/s]"
     ]
    },
    {
     "name": "stdout",
     "output_type": "stream",
     "text": [
      "Error loading Sharad Pawar_122.jpg, skipping...\n"
     ]
    },
    {
     "name": "stderr",
     "output_type": "stream",
     "text": [
      "Processing Sharad Pawar:  13%|███████▎                                                | 43/328 [00:12<01:26,  3.30it/s]"
     ]
    },
    {
     "name": "stdout",
     "output_type": "stream",
     "text": [
      "No face detected in Sharad Pawar_14.jpg\n"
     ]
    },
    {
     "name": "stderr",
     "output_type": "stream",
     "text": [
      "Processing Sharad Pawar:  17%|█████████▌                                              | 56/328 [00:16<01:25,  3.17it/s]"
     ]
    },
    {
     "name": "stdout",
     "output_type": "stream",
     "text": [
      "No face detected in Sharad Pawar_153.jpg\n"
     ]
    },
    {
     "name": "stderr",
     "output_type": "stream",
     "text": [
      "Processing Sharad Pawar:  18%|██████████▏                                             | 60/328 [00:17<01:24,  3.16it/s]"
     ]
    },
    {
     "name": "stdout",
     "output_type": "stream",
     "text": [
      "No face detected in Sharad Pawar_157.jpg\n"
     ]
    },
    {
     "name": "stderr",
     "output_type": "stream",
     "text": [
      "Processing Sharad Pawar:  23%|█████████████▏                                          | 77/328 [00:23<01:20,  3.12it/s]"
     ]
    },
    {
     "name": "stdout",
     "output_type": "stream",
     "text": [
      "Error loading Sharad Pawar_176.jpg, skipping...\n"
     ]
    },
    {
     "name": "stderr",
     "output_type": "stream",
     "text": [
      "Processing Sharad Pawar:  31%|████████████████▉                                      | 101/328 [00:30<01:14,  3.06it/s]"
     ]
    },
    {
     "name": "stdout",
     "output_type": "stream",
     "text": [
      "No face detected in Sharad Pawar_20.jpg\n"
     ]
    },
    {
     "name": "stderr",
     "output_type": "stream",
     "text": [
      "Processing Sharad Pawar:  52%|████████████████████████████▋                          | 171/328 [00:53<00:48,  3.24it/s]"
     ]
    },
    {
     "name": "stdout",
     "output_type": "stream",
     "text": [
      "No face detected in Sharad Pawar_268.jpg\n"
     ]
    },
    {
     "name": "stderr",
     "output_type": "stream",
     "text": [
      "Processing Sharad Pawar:  56%|██████████████████████████████▋                        | 183/328 [00:56<00:45,  3.16it/s]"
     ]
    },
    {
     "name": "stdout",
     "output_type": "stream",
     "text": [
      "No face detected in Sharad Pawar_279.jpg\n"
     ]
    },
    {
     "name": "stderr",
     "output_type": "stream",
     "text": [
      "Processing Sharad Pawar:  62%|█████████████████████████████████▊                     | 202/328 [01:02<00:38,  3.24it/s]"
     ]
    },
    {
     "name": "stdout",
     "output_type": "stream",
     "text": [
      "No face detected in Sharad Pawar_298.jpg\n"
     ]
    },
    {
     "name": "stderr",
     "output_type": "stream",
     "text": [
      "Processing Sharad Pawar:  66%|████████████████████████████████████▍                  | 217/328 [01:07<00:35,  3.15it/s]"
     ]
    },
    {
     "name": "stdout",
     "output_type": "stream",
     "text": [
      "No face detected in Sharad Pawar_312.jpg\n",
      "No face detected in Sharad Pawar_313.jpg\n"
     ]
    },
    {
     "name": "stderr",
     "output_type": "stream",
     "text": [
      "Processing Sharad Pawar:  68%|█████████████████████████████████████▌                 | 224/328 [01:09<00:32,  3.19it/s]"
     ]
    },
    {
     "name": "stdout",
     "output_type": "stream",
     "text": [
      "No face detected in Sharad Pawar_319.jpg\n"
     ]
    },
    {
     "name": "stderr",
     "output_type": "stream",
     "text": [
      "Processing Sharad Pawar:  78%|██████████████████████████████████████████▊            | 255/328 [01:20<00:22,  3.21it/s]"
     ]
    },
    {
     "name": "stdout",
     "output_type": "stream",
     "text": [
      "No face detected in Sharad Pawar_348.jpg\n"
     ]
    },
    {
     "name": "stderr",
     "output_type": "stream",
     "text": [
      "Processing Sharad Pawar:  79%|███████████████████████████████████████████▌           | 260/328 [01:21<00:20,  3.24it/s]"
     ]
    },
    {
     "name": "stdout",
     "output_type": "stream",
     "text": [
      "No face detected in Sharad Pawar_353.jpg\n"
     ]
    },
    {
     "name": "stderr",
     "output_type": "stream",
     "text": [
      "Processing Sharad Pawar:  91%|█████████████████████████████████████████████████▉     | 298/328 [01:34<00:09,  3.24it/s]"
     ]
    },
    {
     "name": "stdout",
     "output_type": "stream",
     "text": [
      "No face detected in Sharad Pawar_70.jpg\n"
     ]
    },
    {
     "name": "stderr",
     "output_type": "stream",
     "text": [
      "Processing Sharad Pawar: 100%|███████████████████████████████████████████████████████| 328/328 [01:44<00:00,  3.14it/s]\n",
      "Processing Shashi Tharoor:  23%|████████████▎                                         | 81/355 [00:26<01:24,  3.23it/s]"
     ]
    },
    {
     "name": "stdout",
     "output_type": "stream",
     "text": [
      "No face detected in Shashi Tharoor_174.jpg\n"
     ]
    },
    {
     "name": "stderr",
     "output_type": "stream",
     "text": [
      "Processing Shashi Tharoor:  48%|█████████████████████████▋                           | 172/355 [00:56<00:58,  3.12it/s]"
     ]
    },
    {
     "name": "stdout",
     "output_type": "stream",
     "text": [
      "Error loading Shashi Tharoor_259.jpg, skipping...\n"
     ]
    },
    {
     "name": "stderr",
     "output_type": "stream",
     "text": [
      "Processing Shashi Tharoor:  55%|████████████████████████████▉                        | 194/355 [01:02<00:51,  3.10it/s]"
     ]
    },
    {
     "name": "stdout",
     "output_type": "stream",
     "text": [
      "No face detected in Shashi Tharoor_278.jpg\n"
     ]
    },
    {
     "name": "stderr",
     "output_type": "stream",
     "text": [
      "Processing Shashi Tharoor: 100%|█████████████████████████████████████████████████████| 355/355 [01:52<00:00,  3.15it/s]\n",
      "Processing Smriti Irani:   3%|█▌                                                       | 9/329 [00:02<01:40,  3.19it/s]"
     ]
    },
    {
     "name": "stdout",
     "output_type": "stream",
     "text": [
      "Error loading Smriti Irani_107.jpg, skipping...\n"
     ]
    },
    {
     "name": "stderr",
     "output_type": "stream",
     "text": [
      "Processing Smriti Irani:  69%|█████████████████████████████████████▉                 | 227/329 [01:12<00:31,  3.25it/s]"
     ]
    },
    {
     "name": "stdout",
     "output_type": "stream",
     "text": [
      "No face detected in Smriti Irani_318.jpg\n"
     ]
    },
    {
     "name": "stderr",
     "output_type": "stream",
     "text": [
      "Processing Smriti Irani:  71%|██████████████████████████████████████▊                | 232/329 [01:14<00:29,  3.25it/s]"
     ]
    },
    {
     "name": "stdout",
     "output_type": "stream",
     "text": [
      "No face detected in Smriti Irani_323.jpg\n"
     ]
    },
    {
     "name": "stderr",
     "output_type": "stream",
     "text": [
      "Processing Smriti Irani:  79%|███████████████████████████████████████████▋           | 261/329 [01:23<00:20,  3.25it/s]"
     ]
    },
    {
     "name": "stdout",
     "output_type": "stream",
     "text": [
      "No face detected in Smriti Irani_353.jpg\n",
      "No face detected in Smriti Irani_354.jpg\n"
     ]
    },
    {
     "name": "stderr",
     "output_type": "stream",
     "text": [
      "Processing Smriti Irani:  80%|███████████████████████████████████████████▉           | 263/329 [01:24<00:17,  3.69it/s]"
     ]
    },
    {
     "name": "stdout",
     "output_type": "stream",
     "text": [
      "No face detected in Smriti Irani_355.jpg\n"
     ]
    },
    {
     "name": "stderr",
     "output_type": "stream",
     "text": [
      "Processing Smriti Irani:  81%|████████████████████████████████████████████▎          | 265/329 [01:24<00:15,  4.06it/s]"
     ]
    },
    {
     "name": "stdout",
     "output_type": "stream",
     "text": [
      "No face detected in Smriti Irani_357.jpg\n"
     ]
    },
    {
     "name": "stderr",
     "output_type": "stream",
     "text": [
      "Processing Smriti Irani:  81%|████████████████████████████████████████████▋          | 267/329 [01:25<00:16,  3.85it/s]"
     ]
    },
    {
     "name": "stdout",
     "output_type": "stream",
     "text": [
      "No face detected in Smriti Irani_359.jpg\n"
     ]
    },
    {
     "name": "stderr",
     "output_type": "stream",
     "text": [
      "Processing Smriti Irani:  83%|█████████████████████████████████████████████▊         | 274/329 [01:27<00:15,  3.57it/s]"
     ]
    },
    {
     "name": "stdout",
     "output_type": "stream",
     "text": [
      "No face detected in Smriti Irani_365.jpg\n"
     ]
    },
    {
     "name": "stderr",
     "output_type": "stream",
     "text": [
      "Processing Smriti Irani: 100%|███████████████████████████████████████████████████████| 329/329 [01:45<00:00,  3.13it/s]\n",
      "Processing Sonia Gandhi:  58%|███████████████████████████████▋                       | 172/298 [00:57<00:42,  2.95it/s]"
     ]
    },
    {
     "name": "stdout",
     "output_type": "stream",
     "text": [
      "No face detected in Sonia Gandhi_295.jpg\n"
     ]
    },
    {
     "name": "stderr",
     "output_type": "stream",
     "text": [
      "Processing Sonia Gandhi:  68%|█████████████████████████████████████▋                 | 204/298 [01:08<00:33,  2.84it/s]"
     ]
    },
    {
     "name": "stdout",
     "output_type": "stream",
     "text": [
      "Error loading Sonia Gandhi_329.jpg, skipping...\n"
     ]
    },
    {
     "name": "stderr",
     "output_type": "stream",
     "text": [
      "Processing Sonia Gandhi:  69%|██████████████████████████████████████                 | 206/298 [01:09<00:26,  3.50it/s]"
     ]
    },
    {
     "name": "stdout",
     "output_type": "stream",
     "text": [
      "No face detected in Sonia Gandhi_331.jpg\n"
     ]
    },
    {
     "name": "stderr",
     "output_type": "stream",
     "text": [
      "Processing Sonia Gandhi:  72%|███████████████████████████████████████▋               | 215/298 [01:12<00:29,  2.78it/s]"
     ]
    },
    {
     "name": "stdout",
     "output_type": "stream",
     "text": [
      "No face detected in Sonia Gandhi_341.jpg\n"
     ]
    },
    {
     "name": "stderr",
     "output_type": "stream",
     "text": [
      "Processing Sonia Gandhi:  83%|█████████████████████████████████████████████▊         | 248/298 [01:23<00:14,  3.51it/s]"
     ]
    },
    {
     "name": "stdout",
     "output_type": "stream",
     "text": [
      "No face detected in Sonia Gandhi_378.jpg\n"
     ]
    },
    {
     "name": "stderr",
     "output_type": "stream",
     "text": [
      "Processing Sonia Gandhi:  85%|██████████████████████████████████████████████▋        | 253/298 [01:24<00:13,  3.28it/s]"
     ]
    },
    {
     "name": "stdout",
     "output_type": "stream",
     "text": [
      "No face detected in Sonia Gandhi_383.jpg\n"
     ]
    },
    {
     "name": "stderr",
     "output_type": "stream",
     "text": [
      "Processing Sonia Gandhi:  87%|███████████████████████████████████████████████▉       | 260/298 [01:26<00:10,  3.64it/s]"
     ]
    },
    {
     "name": "stdout",
     "output_type": "stream",
     "text": [
      "No face detected in Sonia Gandhi_391.jpg\n"
     ]
    },
    {
     "name": "stderr",
     "output_type": "stream",
     "text": [
      "Processing Sonia Gandhi:  89%|████████████████████████████████████████████████▋      | 264/298 [01:28<00:10,  3.33it/s]"
     ]
    },
    {
     "name": "stdout",
     "output_type": "stream",
     "text": [
      "No face detected in Sonia Gandhi_395.jpg\n"
     ]
    },
    {
     "name": "stderr",
     "output_type": "stream",
     "text": [
      "Processing Sonia Gandhi:  89%|█████████████████████████████████████████████████      | 266/298 [01:28<00:10,  3.12it/s]"
     ]
    },
    {
     "name": "stdout",
     "output_type": "stream",
     "text": [
      "No face detected in Sonia Gandhi_397.jpg\n"
     ]
    },
    {
     "name": "stderr",
     "output_type": "stream",
     "text": [
      "Processing Sonia Gandhi:  90%|█████████████████████████████████████████████████▍     | 268/298 [01:29<00:08,  3.37it/s]"
     ]
    },
    {
     "name": "stdout",
     "output_type": "stream",
     "text": [
      "No face detected in Sonia Gandhi_399.jpg\n"
     ]
    },
    {
     "name": "stderr",
     "output_type": "stream",
     "text": [
      "Processing Sonia Gandhi:  91%|██████████████████████████████████████████████████     | 271/298 [01:30<00:07,  3.42it/s]"
     ]
    },
    {
     "name": "stdout",
     "output_type": "stream",
     "text": [
      "No face detected in Sonia Gandhi_401.jpg\n"
     ]
    },
    {
     "name": "stderr",
     "output_type": "stream",
     "text": [
      "Processing Sonia Gandhi:  92%|██████████████████████████████████████████████████▌    | 274/298 [01:31<00:07,  3.20it/s]"
     ]
    },
    {
     "name": "stdout",
     "output_type": "stream",
     "text": [
      "No face detected in Sonia Gandhi_404.jpg\n"
     ]
    },
    {
     "name": "stderr",
     "output_type": "stream",
     "text": [
      "Processing Sonia Gandhi: 100%|███████████████████████████████████████████████████████| 298/298 [01:39<00:00,  3.00it/s]\n",
      "Processing Tejashwi Yadav:  29%|███████████████▌                                     | 115/393 [00:36<01:32,  2.99it/s]"
     ]
    },
    {
     "name": "stdout",
     "output_type": "stream",
     "text": [
      "No face detected in Tejashwi Yadav_208.jpg\n"
     ]
    },
    {
     "name": "stderr",
     "output_type": "stream",
     "text": [
      "Processing Tejashwi Yadav:  63%|█████████████████████████████████▏                   | 246/393 [01:17<00:42,  3.44it/s]"
     ]
    },
    {
     "name": "stdout",
     "output_type": "stream",
     "text": [
      "Error loading Tejashwi Yadav_333.jpg, skipping...\n"
     ]
    },
    {
     "name": "stderr",
     "output_type": "stream",
     "text": [
      "Processing Tejashwi Yadav:  64%|█████████████████████████████████▉                   | 252/393 [01:19<00:42,  3.31it/s]"
     ]
    },
    {
     "name": "stdout",
     "output_type": "stream",
     "text": [
      "Error loading Tejashwi Yadav_34.jpg, skipping...\n"
     ]
    },
    {
     "name": "stderr",
     "output_type": "stream",
     "text": [
      "Processing Tejashwi Yadav:  74%|███████████████████████████████████████▏             | 291/393 [01:31<00:24,  4.24it/s]"
     ]
    },
    {
     "name": "stdout",
     "output_type": "stream",
     "text": [
      "No face detected in Tejashwi Yadav_373.jpg\n",
      "No face detected in Tejashwi Yadav_374.jpg\n"
     ]
    },
    {
     "name": "stderr",
     "output_type": "stream",
     "text": [
      "Processing Tejashwi Yadav:  83%|███████████████████████████████████████████▉         | 326/393 [01:42<00:21,  3.07it/s]"
     ]
    },
    {
     "name": "stdout",
     "output_type": "stream",
     "text": [
      "No face detected in Tejashwi Yadav_406.jpg\n"
     ]
    },
    {
     "name": "stderr",
     "output_type": "stream",
     "text": [
      "Processing Tejashwi Yadav:  83%|████████████████████████████████████████████▏        | 328/393 [01:43<00:20,  3.21it/s]"
     ]
    },
    {
     "name": "stdout",
     "output_type": "stream",
     "text": [
      "No face detected in Tejashwi Yadav_408.jpg\n"
     ]
    },
    {
     "name": "stderr",
     "output_type": "stream",
     "text": [
      "Processing Tejashwi Yadav:  84%|████████████████████████████████████████████▋        | 331/393 [01:44<00:16,  3.75it/s]"
     ]
    },
    {
     "name": "stdout",
     "output_type": "stream",
     "text": [
      "No face detected in Tejashwi Yadav_410.jpg\n"
     ]
    },
    {
     "name": "stderr",
     "output_type": "stream",
     "text": [
      "Processing Tejashwi Yadav: 100%|█████████████████████████████████████████████████████| 393/393 [02:03<00:00,  3.18it/s]\n",
      "Processing Uddhav Thackeray:  16%|████████▌                                           | 28/171 [00:08<00:44,  3.20it/s]"
     ]
    },
    {
     "name": "stdout",
     "output_type": "stream",
     "text": [
      "No face detected in Uddhav Thackeray_123.jpg\n"
     ]
    },
    {
     "name": "stderr",
     "output_type": "stream",
     "text": [
      "Processing Uddhav Thackeray:  87%|████████████████████████████████████████████▍      | 149/171 [00:48<00:06,  3.19it/s]"
     ]
    },
    {
     "name": "stdout",
     "output_type": "stream",
     "text": [
      "No face detected in Uddhav Thackeray_78.jpg\n"
     ]
    },
    {
     "name": "stderr",
     "output_type": "stream",
     "text": [
      "Processing Uddhav Thackeray: 100%|███████████████████████████████████████████████████| 171/171 [00:55<00:00,  3.08it/s]\n",
      "Processing Yogi Adityanath:  30%|███████████████▍                                    | 111/374 [00:35<01:26,  3.05it/s]"
     ]
    },
    {
     "name": "stdout",
     "output_type": "stream",
     "text": [
      "Error loading Yogi Adityanath_211.jpg, skipping...\n"
     ]
    },
    {
     "name": "stderr",
     "output_type": "stream",
     "text": [
      "Processing Yogi Adityanath:  47%|████████████████████████▎                           | 175/374 [00:56<01:04,  3.07it/s]"
     ]
    },
    {
     "name": "stdout",
     "output_type": "stream",
     "text": [
      "No face detected in Yogi Adityanath_275.jpg\n"
     ]
    },
    {
     "name": "stderr",
     "output_type": "stream",
     "text": [
      "Processing Yogi Adityanath:  48%|█████████████████████████                           | 180/374 [00:57<00:55,  3.50it/s]"
     ]
    },
    {
     "name": "stdout",
     "output_type": "stream",
     "text": [
      "No face detected in Yogi Adityanath_28.jpg\n"
     ]
    },
    {
     "name": "stderr",
     "output_type": "stream",
     "text": [
      "Processing Yogi Adityanath:  52%|██████████████████████████▊                         | 193/374 [01:01<00:59,  3.04it/s]"
     ]
    },
    {
     "name": "stdout",
     "output_type": "stream",
     "text": [
      "No face detected in Yogi Adityanath_291.jpg\n"
     ]
    },
    {
     "name": "stderr",
     "output_type": "stream",
     "text": [
      "Processing Yogi Adityanath:  59%|██████████████████████████████▌                     | 220/374 [01:11<00:54,  2.85it/s]"
     ]
    },
    {
     "name": "stdout",
     "output_type": "stream",
     "text": [
      "No face detected in Yogi Adityanath_316.jpg\n"
     ]
    },
    {
     "name": "stderr",
     "output_type": "stream",
     "text": [
      "Processing Yogi Adityanath:  61%|███████████████████████████████▊                    | 229/374 [01:13<00:42,  3.40it/s]"
     ]
    },
    {
     "name": "stdout",
     "output_type": "stream",
     "text": [
      "No face detected in Yogi Adityanath_326.jpg\n"
     ]
    },
    {
     "name": "stderr",
     "output_type": "stream",
     "text": [
      "Processing Yogi Adityanath:  63%|████████████████████████████████▉                   | 237/374 [01:16<00:44,  3.09it/s]"
     ]
    },
    {
     "name": "stdout",
     "output_type": "stream",
     "text": [
      "No face detected in Yogi Adityanath_333.jpg\n"
     ]
    },
    {
     "name": "stderr",
     "output_type": "stream",
     "text": [
      "Processing Yogi Adityanath:  69%|████████████████████████████████████                | 259/374 [01:23<00:50,  2.29it/s]"
     ]
    },
    {
     "name": "stdout",
     "output_type": "stream",
     "text": [
      "No face detected in Yogi Adityanath_354.jpg\n"
     ]
    },
    {
     "name": "stderr",
     "output_type": "stream",
     "text": [
      "Processing Yogi Adityanath:  72%|█████████████████████████████████████▍              | 269/374 [01:26<00:30,  3.41it/s]"
     ]
    },
    {
     "name": "stdout",
     "output_type": "stream",
     "text": [
      "No face detected in Yogi Adityanath_364.jpg\n"
     ]
    },
    {
     "name": "stderr",
     "output_type": "stream",
     "text": [
      "Processing Yogi Adityanath:  75%|███████████████████████████████████████             | 281/374 [01:30<00:24,  3.74it/s]"
     ]
    },
    {
     "name": "stdout",
     "output_type": "stream",
     "text": [
      "No face detected in Yogi Adityanath_375.jpg\n"
     ]
    },
    {
     "name": "stderr",
     "output_type": "stream",
     "text": [
      "Processing Yogi Adityanath:  76%|███████████████████████████████████████▎            | 283/374 [01:30<00:22,  4.06it/s]"
     ]
    },
    {
     "name": "stdout",
     "output_type": "stream",
     "text": [
      "No face detected in Yogi Adityanath_377.jpg\n"
     ]
    },
    {
     "name": "stderr",
     "output_type": "stream",
     "text": [
      "Processing Yogi Adityanath:  79%|████████████████████████████████████████▉           | 294/374 [01:34<00:25,  3.15it/s]"
     ]
    },
    {
     "name": "stdout",
     "output_type": "stream",
     "text": [
      "No face detected in Yogi Adityanath_388.jpg\n",
      "No face detected in Yogi Adityanath_389.jpg\n"
     ]
    },
    {
     "name": "stderr",
     "output_type": "stream",
     "text": [
      "Processing Yogi Adityanath:  86%|████████████████████████████████████████████▍       | 320/374 [01:42<00:15,  3.42it/s]"
     ]
    },
    {
     "name": "stdout",
     "output_type": "stream",
     "text": [
      "Error loading Yogi Adityanath_42.jpg, skipping...\n"
     ]
    },
    {
     "name": "stderr",
     "output_type": "stream",
     "text": [
      "Processing Yogi Adityanath:  87%|█████████████████████████████████████████████▎      | 326/374 [01:44<00:16,  3.00it/s]"
     ]
    },
    {
     "name": "stdout",
     "output_type": "stream",
     "text": [
      "Error loading Yogi Adityanath_5.jpg, skipping...\n"
     ]
    },
    {
     "name": "stderr",
     "output_type": "stream",
     "text": [
      "Processing Yogi Adityanath: 100%|████████████████████████████████████████████████████| 374/374 [02:00<00:00,  3.10it/s]\n"
     ]
    }
   ],
   "source": [
    "\n",
    "# Example Usage\n",
    "input_folder = r\"sanjana\"\n",
    "output_folder = r\"cv\"\n",
    "\n",
    "crop_faces_mtcnn_hair_fix(input_folder, output_folder, scale_w=1.5, scale_h=1.45, hair_extension_factor=0.15)\n"
   ]
  },
  {
   "cell_type": "code",
   "execution_count": null,
   "id": "2b3fbcf8-c56f-4788-9272-a2942a1b1888",
   "metadata": {},
   "outputs": [],
   "source": []
  },
  {
   "cell_type": "code",
   "execution_count": null,
   "id": "a5cefa44-a15d-4856-bd9d-fe77054e3e68",
   "metadata": {},
   "outputs": [],
   "source": []
  }
 ],
 "metadata": {
  "kernelspec": {
   "display_name": "Python 3 (ipykernel)",
   "language": "python",
   "name": "python3"
  },
  "language_info": {
   "codemirror_mode": {
    "name": "ipython",
    "version": 3
   },
   "file_extension": ".py",
   "mimetype": "text/x-python",
   "name": "python",
   "nbconvert_exporter": "python",
   "pygments_lexer": "ipython3",
   "version": "3.9.12"
  }
 },
 "nbformat": 4,
 "nbformat_minor": 5
}
